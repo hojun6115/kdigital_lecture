{
 "cells": [
  {
   "cell_type": "markdown",
   "metadata": {},
   "source": [
    "### 웹 크롤링"
   ]
  },
  {
   "cell_type": "code",
   "execution_count": 2,
   "metadata": {},
   "outputs": [
    {
     "name": "stdout",
     "output_type": "stream",
     "text": [
      "Requirement already satisfied: requests in /Users/yunhojun/opt/anaconda3/envs/study/lib/python3.6/site-packages (2.25.1)\n",
      "Requirement already satisfied: idna<3,>=2.5 in /Users/yunhojun/opt/anaconda3/envs/study/lib/python3.6/site-packages (from requests) (2.10)\n",
      "Requirement already satisfied: certifi>=2017.4.17 in /Users/yunhojun/opt/anaconda3/envs/study/lib/python3.6/site-packages (from requests) (2020.12.5)\n",
      "Requirement already satisfied: urllib3<1.27,>=1.21.1 in /Users/yunhojun/opt/anaconda3/envs/study/lib/python3.6/site-packages (from requests) (1.26.2)\n",
      "Requirement already satisfied: chardet<5,>=3.0.2 in /Users/yunhojun/opt/anaconda3/envs/study/lib/python3.6/site-packages (from requests) (4.0.0)\n"
     ]
    }
   ],
   "source": [
    "!pip install requests"
   ]
  },
  {
   "cell_type": "code",
   "execution_count": 3,
   "metadata": {},
   "outputs": [],
   "source": [
    "import requests"
   ]
  },
  {
   "cell_type": "code",
   "execution_count": 4,
   "metadata": {},
   "outputs": [
    {
     "name": "stdout",
     "output_type": "stream",
     "text": [
      "200\n",
      "<!DOCTYPE html>\n",
      "<html>\n",
      "<head>\n",
      "<title>크롤링 연습사이트 01</title>\n",
      "</head>\n",
      "<body>\n",
      "<h1>저의 첫 웹사이트 오신것을 환영합니다.</h1>\n",
      "<h1 title=\"welcome\">인사이트캠퍼스.</h1>\n",
      "<h2>이곳은 크롤링 연습을 위한 웹사이트입니다.</h2>\n",
      "<table border=\"1\">\n",
      "    <thead>\n",
      "      <tr>\n",
      "      \t<th class=\"tablehead\">이름</th>\n",
      "        <th class=\"tablehead\">나이</th>\n",
      "      </tr>\n",
      "    </thead>\n",
      "    <tbody>\n",
      "      <tr>\n",
      "          <td>이몽룡</td>\n",
      "          <td>34</td>\n",
      "      </tr>\n",
      "      <tr>\n",
      "          <td>홍길동</td>\n",
      "          <td>23</td>\n",
      "      </tr>\n",
      "     </tbody>\n",
      "</table>\n",
      "<p id=\"hello\">\n",
      "    이탈리아 요리의 시작은 기원전 4세기로 거슬러 올라갈 수 있다. 대항해시대를 거치면서 아메리카 대륙에서 감자·토마토·후추·옥수수 등이 유입되어 그 종류와 풍미가 다양해졌고 현대에 이르러서는 피자와 파스타 등 많은 이탈리아 요리가 널리 퍼지게 되었다.\n",
      "</p>\n",
      "<p id=\"cook\">\n",
      "    전통적인 요리법이나 양식은 상당한 차이가 있지만, 이탈리아 요리는 다른 국가의 요리 문화에서 다양한 영감을 줄 만큼 다양하고 혁신적인 것으로 평가되고 있다. 각 지방마다 고유의 특색이 있어 그 양식도 다양하지만 크게 북부와 남부로 나눌 수 있다. 다른 나라와 국경을 맞대고 있던 북부 지방은 산업화되어 경제적으로 풍족하고 농업이 발달해 쌀이 풍부해 유제품이 다양한 반면 경제적으로 침체되었던 남부 지방은 올리브와 토마토, 모차렐라 치즈가 유명하고 특별히 해산물을 활용한 요리가 많다. 식재료와 치즈 등의 차이는 파스타의 종류와 소스와 수프 등도 다름을 의미한다.\n",
      "</p>\n",
      "<a href=\"01.html\">1페이지 바로가기</a>\n",
      "<a href=\"02.html\">2페이지 바로가기</a>\n",
      "<a href=\"03.html\">3페이지 바로가기</a>\n",
      "<a href=\"04.html\">4페이지 바로가기</a>\n",
      "</body>\n",
      "</html>\n",
      "\n"
     ]
    }
   ],
   "source": [
    "URL = 'https://scrapying-study.firebaseapp.com/01/'  #01을 11로 바꿨는데 404. page not found\n",
    "\n",
    "response = requests.get(URL)\n",
    "print(response.status_code)\n",
    "print(response.text)\n",
    "#html 태그들이 날라옴. 소스를 가져올 수 있다.\n",
    "\n"
   ]
  },
  {
   "cell_type": "code",
   "execution_count": 5,
   "metadata": {},
   "outputs": [
    {
     "name": "stdout",
     "output_type": "stream",
     "text": [
      "200\n",
      "<!DOCTYPE html>\n",
      "<html>\n",
      "<head>\n",
      "<title>크롤링 연습사이트 01</title>\n",
      "</head>\n",
      "<body>\n",
      "<h1>저의 첫 웹사이트 오신것을 환영합니다.</h1>\n",
      "<h1 title=\"welcome\">인사이트캠퍼스.</h1>\n",
      "<h2>이곳은 크롤링 연습을 위한 웹사이트입니다.</h2>\n",
      "<table border=\"1\">\n",
      "    <thead>\n",
      "      <tr>\n",
      "      \t<th class=\"tablehead\">이름</th>\n",
      "        <th class=\"tablehead\">나이</th>\n",
      "      </tr>\n",
      "    </thead>\n",
      "    <tbody>\n",
      "      <tr>\n",
      "          <td>이몽룡</td>\n",
      "          <td>34</td>\n",
      "      </tr>\n",
      "      <tr>\n",
      "          <td>홍길동</td>\n",
      "          <td>23</td>\n",
      "      </tr>\n",
      "     </tbody>\n",
      "</table>\n",
      "<p id=\"hello\">\n",
      "    이탈리아 요리의 시작은 기원전 4세기로 거슬러 올라갈 수 있다. 대항해시대를 거치면서 아메리카 대륙에서 감자·토마토·후추·옥수수 등이 유입되어 그 종류와 풍미가 다양해졌고 현대에 이르러서는 피자와 파스타 등 많은 이탈리아 요리가 널리 퍼지게 되었다.\n",
      "</p>\n",
      "<p id=\"cook\">\n",
      "    전통적인 요리법이나 양식은 상당한 차이가 있지만, 이탈리아 요리는 다른 국가의 요리 문화에서 다양한 영감을 줄 만큼 다양하고 혁신적인 것으로 평가되고 있다. 각 지방마다 고유의 특색이 있어 그 양식도 다양하지만 크게 북부와 남부로 나눌 수 있다. 다른 나라와 국경을 맞대고 있던 북부 지방은 산업화되어 경제적으로 풍족하고 농업이 발달해 쌀이 풍부해 유제품이 다양한 반면 경제적으로 침체되었던 남부 지방은 올리브와 토마토, 모차렐라 치즈가 유명하고 특별히 해산물을 활용한 요리가 많다. 식재료와 치즈 등의 차이는 파스타의 종류와 소스와 수프 등도 다름을 의미한다.\n",
      "</p>\n",
      "<a href=\"01.html\">1페이지 바로가기</a>\n",
      "<a href=\"02.html\">2페이지 바로가기</a>\n",
      "<a href=\"03.html\">3페이지 바로가기</a>\n",
      "<a href=\"04.html\">4페이지 바로가기</a>\n",
      "</body>\n",
      "</html>\n",
      "\n"
     ]
    }
   ],
   "source": [
    "URL = 'https://scrapying-study.firebaseapp.com/01/'\n",
    "\n",
    "headers = {'Content-Type': 'application/json; charset=utf-8'}\n",
    "response = requests.get(URL, headers=headers)\n",
    "# header 넣을 수 있다.\n",
    "print(response.status_code)\n",
    "print(response.text)"
   ]
  },
  {
   "cell_type": "code",
   "execution_count": 6,
   "metadata": {},
   "outputs": [
    {
     "name": "stdout",
     "output_type": "stream",
     "text": [
      "200\n",
      "<!DOCTYPE html>\n",
      "<html>\n",
      "<head>\n",
      "<title>크롤링 연습사이트 01</title>\n",
      "</head>\n",
      "<body>\n",
      "<h1>저의 첫 웹사이트 오신것을 환영합니다.</h1>\n",
      "<h1 title=\"welcome\">인사이트캠퍼스.</h1>\n",
      "<h2>이곳은 크롤링 연습을 위한 웹사이트입니다.</h2>\n",
      "<table border=\"1\">\n",
      "    <thead>\n",
      "      <tr>\n",
      "      \t<th class=\"tablehead\">이름</th>\n",
      "        <th class=\"tablehead\">나이</th>\n",
      "      </tr>\n",
      "    </thead>\n",
      "    <tbody>\n",
      "      <tr>\n",
      "          <td>이몽룡</td>\n",
      "          <td>34</td>\n",
      "      </tr>\n",
      "      <tr>\n",
      "          <td>홍길동</td>\n",
      "          <td>23</td>\n",
      "      </tr>\n",
      "     </tbody>\n",
      "</table>\n",
      "<p id=\"hello\">\n",
      "    이탈리아 요리의 시작은 기원전 4세기로 거슬러 올라갈 수 있다. 대항해시대를 거치면서 아메리카 대륙에서 감자·토마토·후추·옥수수 등이 유입되어 그 종류와 풍미가 다양해졌고 현대에 이르러서는 피자와 파스타 등 많은 이탈리아 요리가 널리 퍼지게 되었다.\n",
      "</p>\n",
      "<p id=\"cook\">\n",
      "    전통적인 요리법이나 양식은 상당한 차이가 있지만, 이탈리아 요리는 다른 국가의 요리 문화에서 다양한 영감을 줄 만큼 다양하고 혁신적인 것으로 평가되고 있다. 각 지방마다 고유의 특색이 있어 그 양식도 다양하지만 크게 북부와 남부로 나눌 수 있다. 다른 나라와 국경을 맞대고 있던 북부 지방은 산업화되어 경제적으로 풍족하고 농업이 발달해 쌀이 풍부해 유제품이 다양한 반면 경제적으로 침체되었던 남부 지방은 올리브와 토마토, 모차렐라 치즈가 유명하고 특별히 해산물을 활용한 요리가 많다. 식재료와 치즈 등의 차이는 파스타의 종류와 소스와 수프 등도 다름을 의미한다.\n",
      "</p>\n",
      "<a href=\"01.html\">1페이지 바로가기</a>\n",
      "<a href=\"02.html\">2페이지 바로가기</a>\n",
      "<a href=\"03.html\">3페이지 바로가기</a>\n",
      "<a href=\"04.html\">4페이지 바로가기</a>\n",
      "</body>\n",
      "</html>\n",
      "\n"
     ]
    }
   ],
   "source": [
    "URL = 'https://scrapying-study.firebaseapp.com/01/'\n",
    "data = {'name': 'ronen'}\n",
    "response = requests.get(URL, data=data)\n",
    "\n",
    "print(response.status_code)\n",
    "print(response.text)  #type은 문자열임"
   ]
  },
  {
   "cell_type": "code",
   "execution_count": 11,
   "metadata": {},
   "outputs": [],
   "source": [
    "#필요한 것들을 뽑아오려면??  이몽룡 34 홍길동 23을 뽑아오려면? beautifulsoup4 이용!\n"
   ]
  },
  {
   "cell_type": "code",
   "execution_count": 7,
   "metadata": {},
   "outputs": [
    {
     "name": "stdout",
     "output_type": "stream",
     "text": [
      "Requirement already satisfied: beautifulsoup4 in /Users/yunhojun/opt/anaconda3/envs/study/lib/python3.6/site-packages (4.9.3)\r\n",
      "Requirement already satisfied: soupsieve>1.2 in /Users/yunhojun/opt/anaconda3/envs/study/lib/python3.6/site-packages (from beautifulsoup4) (2.1)\r\n"
     ]
    }
   ],
   "source": [
    "!pip install beautifulsoup4"
   ]
  },
  {
   "cell_type": "code",
   "execution_count": 8,
   "metadata": {},
   "outputs": [
    {
     "name": "stdout",
     "output_type": "stream",
     "text": [
      "<title>크롤링 연습사이트 01</title>\n",
      "크롤링 연습사이트 01\n"
     ]
    }
   ],
   "source": [
    "import requests   #beautifulsoup을 이용해 원하는 값을 가져올 수 있다\n",
    "from bs4 import BeautifulSoup   #bs4 에서 가져옴\n",
    "\n",
    "url = \"http://scrapying-study.firebaseapp.com/01\"\n",
    "reponse = requests.get(url)  #소스 코드를 가져올 것\n",
    "\n",
    "soup = BeautifulSoup(reponse.text, \"html.parser\")  #html.parser라는 걸 사용할 것\n",
    "result = soup.find(\"title\")  #find라는 명령어로 title을 찾는다\n",
    "\n",
    "print(result)\n",
    "print(result.text)\n"
   ]
  },
  {
   "cell_type": "code",
   "execution_count": 9,
   "metadata": {},
   "outputs": [
    {
     "name": "stdout",
     "output_type": "stream",
     "text": [
      "<p>한국 및 CE, IM부문 해외 9개 지역총괄과 DS부문 해외 5개 지역총괄, Harman 등 244개의 종속기업으로 구성된 글로벌 전자기업임.</p>\n",
      "한국 및 CE, IM부문 해외 9개 지역총괄과 DS부문 해외 5개 지역총괄, Harman 등 244개의 종속기업으로 구성된 글로벌 전자기업임.\n"
     ]
    }
   ],
   "source": [
    "url = 'https://finance.naver.com/item/main.nhn?code=005930'\n",
    "response = requests.get(url)\n",
    "\n",
    "soup = BeautifulSoup(response.text, 'html.parser')\n",
    "result = soup.find('p')  #find는 처음에 만나는 것 한개만 가져다줌\n",
    "\n",
    "print(result)\n",
    "print(result.text)"
   ]
  },
  {
   "cell_type": "code",
   "execution_count": 10,
   "metadata": {},
   "outputs": [
    {
     "name": "stdout",
     "output_type": "stream",
     "text": [
      "<p id=\"hello\">\n",
      "    이탈리아 요리의 시작은 기원전 4세기로 거슬러 올라갈 수 있다. 대항해시대를 거치면서 아메리카 대륙에서 감자·토마토·후추·옥수수 등이 유입되어 그 종류와 풍미가 다양해졌고 현대에 이르러서는 피자와 파스타 등 많은 이탈리아 요리가 널리 퍼지게 되었다.\n",
      "</p>\n",
      "[<p id=\"hello\">\n",
      "    이탈리아 요리의 시작은 기원전 4세기로 거슬러 올라갈 수 있다. 대항해시대를 거치면서 아메리카 대륙에서 감자·토마토·후추·옥수수 등이 유입되어 그 종류와 풍미가 다양해졌고 현대에 이르러서는 피자와 파스타 등 많은 이탈리아 요리가 널리 퍼지게 되었다.\n",
      "</p>, <p id=\"cook\">\n",
      "    전통적인 요리법이나 양식은 상당한 차이가 있지만, 이탈리아 요리는 다른 국가의 요리 문화에서 다양한 영감을 줄 만큼 다양하고 혁신적인 것으로 평가되고 있다. 각 지방마다 고유의 특색이 있어 그 양식도 다양하지만 크게 북부와 남부로 나눌 수 있다. 다른 나라와 국경을 맞대고 있던 북부 지방은 산업화되어 경제적으로 풍족하고 농업이 발달해 쌀이 풍부해 유제품이 다양한 반면 경제적으로 침체되었던 남부 지방은 올리브와 토마토, 모차렐라 치즈가 유명하고 특별히 해산물을 활용한 요리가 많다. 식재료와 치즈 등의 차이는 파스타의 종류와 소스와 수프 등도 다름을 의미한다.\n",
      "</p>]\n",
      "[<p id=\"hello\">\n",
      "    이탈리아 요리의 시작은 기원전 4세기로 거슬러 올라갈 수 있다. 대항해시대를 거치면서 아메리카 대륙에서 감자·토마토·후추·옥수수 등이 유입되어 그 종류와 풍미가 다양해졌고 현대에 이르러서는 피자와 파스타 등 많은 이탈리아 요리가 널리 퍼지게 되었다.\n",
      "</p>, <p id=\"cook\">\n",
      "    전통적인 요리법이나 양식은 상당한 차이가 있지만, 이탈리아 요리는 다른 국가의 요리 문화에서 다양한 영감을 줄 만큼 다양하고 혁신적인 것으로 평가되고 있다. 각 지방마다 고유의 특색이 있어 그 양식도 다양하지만 크게 북부와 남부로 나눌 수 있다. 다른 나라와 국경을 맞대고 있던 북부 지방은 산업화되어 경제적으로 풍족하고 농업이 발달해 쌀이 풍부해 유제품이 다양한 반면 경제적으로 침체되었던 남부 지방은 올리브와 토마토, 모차렐라 치즈가 유명하고 특별히 해산물을 활용한 요리가 많다. 식재료와 치즈 등의 차이는 파스타의 종류와 소스와 수프 등도 다름을 의미한다.\n",
      "</p>]\n",
      "<th class=\"tablehead\">이름</th>\n",
      "<th class=\"tablehead\">이름</th>\n",
      "<th class=\"tablehead\">이름</th>\n",
      "<h1 title=\"welcome\">인사이트캠퍼스.</h1>\n",
      "<p id=\"hello\">\n",
      "    이탈리아 요리의 시작은 기원전 4세기로 거슬러 올라갈 수 있다. 대항해시대를 거치면서 아메리카 대륙에서 감자·토마토·후추·옥수수 등이 유입되어 그 종류와 풍미가 다양해졌고 현대에 이르러서는 피자와 파스타 등 많은 이탈리아 요리가 널리 퍼지게 되었다.\n",
      "</p>\n"
     ]
    }
   ],
   "source": [
    "import requests\n",
    "url = \"http://scrapying-study.firebaseapp.com/01\"\n",
    "reponse = requests.get(url)\n",
    "\n",
    "soup = BeautifulSoup(reponse.text, \"html.parser\")\n",
    "\n",
    "print(soup.find(\"p\"))\n",
    "print(soup.find_all(\"p\"))\n",
    "print(soup.find_all('p', limit=2))\n",
    "\n",
    "print(soup.find(\"th\",\"tablehead\"))\n",
    "print(soup.find('th',class_='tablehead'))\n",
    "print(soup.find('th',attrs = {'class':'tablehead'}))\n",
    "print(soup.find('h1',attrs = {'title':'welcome'}))\n",
    "print(soup.find(id='hello'))\n",
    "#각각 어떤 값을 반환하는지 볼 수 있음. 필요한 정보들을 가져올 수 있다."
   ]
  },
  {
   "cell_type": "code",
   "execution_count": 11,
   "metadata": {},
   "outputs": [
    {
     "data": {
      "text/plain": [
       "'\\n    이탈리아 요리의 시작은 기원전 4세기로 거슬러 올라갈 수 있다. 대항해시대를 거치면서 아메리카 대륙에서 감자·토마토·후추·옥수수 등이 유입되어 그 종류와 풍미가 다양해졌고 현대에 이르러서는 피자와 파스타 등 많은 이탈리아 요리가 널리 퍼지게 되었다.\\n'"
      ]
     },
     "execution_count": 11,
     "metadata": {},
     "output_type": "execute_result"
    }
   ],
   "source": [
    "\n",
    "url = \"http://scrapying-study.firebaseapp.com/01\"\n",
    "reponse = requests.get(url)\n",
    "\n",
    "soup = BeautifulSoup(reponse.text, \"html.parser\")\n",
    "\n",
    "soup.find(\"p\").text  #text만 가져올 수 있다."
   ]
  },
  {
   "cell_type": "code",
   "execution_count": 12,
   "metadata": {},
   "outputs": [
    {
     "name": "stdout",
     "output_type": "stream",
     "text": [
      "<p class=\"no_today\">\n",
      "<em class=\"X\">\n",
      "<span class=\"blind\">73,000</span>\n",
      "<span class=\"no7\">7</span><span class=\"no3\">3</span><span class=\"shim\">,</span><span class=\"no0\">0</span><span class=\"no0\">0</span><span class=\"no0\">0</span>\n",
      "</em>\n",
      "</p>\n",
      "\n",
      "\n",
      "73,000\n",
      "73,000\n",
      "\n",
      "\n"
     ]
    }
   ],
   "source": [
    "url = 'https://finance.naver.com/item/main.nhn?code=005930'\n",
    "response = requests.get(url)\n",
    "\n",
    "soup = BeautifulSoup(response.text, 'html.parser')\n",
    "result = soup.find('p','no_today')  #p태크에서 no_today 가져온다\n",
    "\n",
    "print(result)\n",
    "print(result.text)  #주가만 빼올 수 있다. 2개가 있기 때문에 2개가 오는 것\n",
    "\n",
    "#이건 좀 복잡하다."
   ]
  },
  {
   "cell_type": "code",
   "execution_count": 13,
   "metadata": {},
   "outputs": [
    {
     "name": "stdout",
     "output_type": "stream",
     "text": [
      "1페이지 바로가기\n",
      "01.html\n",
      "<tbody>\n",
      "<tr>\n",
      "<td>이몽룡</td>\n",
      "<td>34</td>\n",
      "</tr>\n",
      "<tr>\n",
      "<td>홍길동</td>\n",
      "<td>23</td>\n",
      "</tr>\n",
      "</tbody>\n"
     ]
    }
   ],
   "source": [
    "url = \"http://scrapying-study.firebaseapp.com/01\"\n",
    "reponse = requests.get(url)\n",
    "\n",
    "soup = BeautifulSoup(reponse.text, \"html.parser\")\n",
    "results = soup.find('a')\n",
    "print(results.text)\n",
    "print(results.attrs['href'])\n",
    "\n",
    "result = soup.find('table')\n",
    "result2 = result.find('tbody')  #table 안에 있는 tbody만 보임\n",
    "\n",
    "print(result2)"
   ]
  },
  {
   "cell_type": "code",
   "execution_count": null,
   "metadata": {},
   "outputs": [],
   "source": []
  }
 ],
 "metadata": {
  "kernelspec": {
   "display_name": "study",
   "language": "python",
   "name": "study"
  },
  "language_info": {
   "codemirror_mode": {
    "name": "ipython",
    "version": 3
   },
   "file_extension": ".py",
   "mimetype": "text/x-python",
   "name": "python",
   "nbconvert_exporter": "python",
   "pygments_lexer": "ipython3",
   "version": "3.6.12"
  }
 },
 "nbformat": 4,
 "nbformat_minor": 4
}

{
 "cells": [
  {
   "cell_type": "markdown",
   "metadata": {},
   "source": [
    "### 주말 숙제"
   ]
  },
  {
   "cell_type": "code",
   "execution_count": 12,
   "metadata": {},
   "outputs": [
    {
     "name": "stdout",
     "output_type": "stream",
     "text": [
      "32\n",
      "16\n",
      "192\n",
      "3.0\n"
     ]
    }
   ],
   "source": [
    "def calc(operator, num1, num2):\n",
    "    ret = 0\n",
    "    if operator == \"+\":\n",
    "        ret = num1+num2\n",
    "    elif operator == \"-\":\n",
    "        ret = num1-num2\n",
    "    elif operator == \"*\":\n",
    "        ret = num1*num2\n",
    "    elif operator == \"/\":\n",
    "        ret = num1/num2\n",
    "    # +, -, *, / 로 연산한 결과\n",
    "    return ret\n",
    "\n",
    "print(calc(\"+\",24,8))\n",
    "print(calc(\"-\",24,8))\n",
    "print(calc(\"*\",24,8))\n",
    "print(calc(\"/\",24,8))"
   ]
  },
  {
   "cell_type": "code",
   "execution_count": 13,
   "metadata": {},
   "outputs": [],
   "source": [
    "def get_inputdata():\n",
    "    name = input(\"이름 : \")\n",
    "    math = int(input(\"수학 : \"))\n",
    "    science = int(input(\"과학 : \"))\n",
    "    english = int(input(\"영어 : \"))\n",
    "    \n",
    "    return name, math, science, english"
   ]
  },
  {
   "cell_type": "code",
   "execution_count": 15,
   "metadata": {},
   "outputs": [],
   "source": [
    "def display_all(scores):\n",
    "    for i, user in enumerate(scores):\n",
    "        print(f\"[{i}] 이름 : {user['이름']}, 수학 : {user['수학']}, 과학 : {user['과학']}, 영어 : {user['영어']}\")"
   ]
  },
  {
   "cell_type": "code",
   "execution_count": 251,
   "metadata": {},
   "outputs": [
    {
     "name": "stdout",
     "output_type": "stream",
     "text": [
      "메뉴를 선택해주세요 (1-입력, 2-조회, 3-삭제, 0-종료) : 2\n",
      "[0] 이름 : 윤호준, 수학 : 90, 과학 : 90, 영어 : 90\n",
      "[1] 이름 : 이진범, 수학 : 10, 과학 : 10, 영어 : 10\n",
      "메뉴를 선택해주세요 (1-입력, 2-조회, 3-삭제, 0-종료) : 0\n",
      "종료되었습니다.\n"
     ]
    }
   ],
   "source": [
    "import pickle\n",
    "import os.path\n",
    "\n",
    "filename = \"scores.pkl\"\n",
    "\n",
    "if os.path.exists(filename):\n",
    "    with open(filename,\"rb\") as f:\n",
    "        scores = pickle.load(f)\n",
    "else:\n",
    "    scores = []\n",
    "    \n",
    "while True:\n",
    "    menu = int(input(\"메뉴를 선택해주세요 (1-입력, 2-조회, 3-삭제, 0-종료) : \"))\n",
    "    if menu == 1:\n",
    "        #입력\n",
    "        name, math, science, english = get_inputdata()\n",
    "        scores.append({\"이름\":name,\"수학\":math,\"과학\":science,\"영어\":english})\n",
    "        \n",
    "    elif menu==2:\n",
    "        #조회 #함수사용\n",
    "        display_all(scores)\n",
    "        \n",
    "        pass\n",
    "    elif menu ==3:\n",
    "        #삭제 #함수사용\n",
    "        display_all(scores)\n",
    "        \n",
    "        del_index = int(input(\"삭제할 번호를 입력해주세요 : \"))\n",
    "        scores.pop(del_index)\n",
    "        print(\"삭제가 완료되었습니다.\")\n",
    "        pass\n",
    "    elif menu==0:\n",
    "        #종료\n",
    "        #파일 저장\n",
    "        with open(filename,\"wb\") as f:\n",
    "            pickle.dump(scores, f)\n",
    "        print(\"종료되었습니다.\")\n",
    "        break\n",
    "\n"
   ]
  },
  {
   "cell_type": "code",
   "execution_count": 18,
   "metadata": {},
   "outputs": [
    {
     "name": "stdout",
     "output_type": "stream",
     "text": [
      "ben 25\n"
     ]
    }
   ],
   "source": [
    "def demo(name,age):\n",
    "    print(name, age)\n",
    "\n",
    "demo(\"ben\",25)"
   ]
  },
  {
   "cell_type": "code",
   "execution_count": 248,
   "metadata": {},
   "outputs": [
    {
     "name": "stdout",
     "output_type": "stream",
     "text": [
      "80\n",
      "100\n",
      "120\n"
     ]
    }
   ],
   "source": [
    "def func1(*nums):\n",
    "    for i in nums:\n",
    "        print(i)\n",
    "\n",
    "func1(80, 100, 120)"
   ]
  },
  {
   "cell_type": "code",
   "execution_count": 20,
   "metadata": {},
   "outputs": [
    {
     "name": "stdout",
     "output_type": "stream",
     "text": [
      "50\n"
     ]
    }
   ],
   "source": [
    "def calc(a,b):\n",
    "    # 코드 작성\n",
    "    res = a+b\n",
    "    return res\n",
    "    \n",
    "res = calc(40,10)\n",
    "print(res)\n",
    "\n",
    "# 결과가 50, 30 나와야"
   ]
  },
  {
   "cell_type": "markdown",
   "metadata": {},
   "source": [
    "### 수업 복습"
   ]
  },
  {
   "cell_type": "code",
   "execution_count": 22,
   "metadata": {},
   "outputs": [
    {
     "name": "stdout",
     "output_type": "stream",
     "text": [
      "[30, 60, 90, 200, -70, 50]\n"
     ]
    }
   ],
   "source": [
    "x=[3,6,9,20,-7,5]\n",
    "for i in range(len(x)):\n",
    "    x[i] = x[i]*10\n",
    "# range는 인덱스를 매기기 위한 것\n",
    "print(x)"
   ]
  },
  {
   "cell_type": "code",
   "execution_count": 39,
   "metadata": {},
   "outputs": [
    {
     "name": "stdout",
     "output_type": "stream",
     "text": [
      "300,"
     ]
    },
    {
     "ename": "AttributeError",
     "evalue": "'NoneType' object has no attribute 'split'",
     "output_type": "error",
     "traceback": [
      "\u001b[0;31m---------------------------------------------------------------------------\u001b[0m",
      "\u001b[0;31mAttributeError\u001b[0m                            Traceback (most recent call last)",
      "\u001b[0;32m<ipython-input-39-8cd651767753>\u001b[0m in \u001b[0;36m<module>\u001b[0;34m\u001b[0m\n\u001b[1;32m      1\u001b[0m \u001b[0;32mfor\u001b[0m \u001b[0mi\u001b[0m \u001b[0;32min\u001b[0m \u001b[0mx\u001b[0m\u001b[0;34m:\u001b[0m\u001b[0;34m\u001b[0m\u001b[0;34m\u001b[0m\u001b[0m\n\u001b[1;32m      2\u001b[0m     \u001b[0mi\u001b[0m \u001b[0;34m=\u001b[0m \u001b[0mi\u001b[0m\u001b[0;34m*\u001b[0m\u001b[0;36m10\u001b[0m\u001b[0;34m\u001b[0m\u001b[0;34m\u001b[0m\u001b[0m\n\u001b[0;32m----> 3\u001b[0;31m     \u001b[0mlist\u001b[0m \u001b[0;34m=\u001b[0m \u001b[0mprint\u001b[0m\u001b[0;34m(\u001b[0m\u001b[0mi\u001b[0m\u001b[0;34m,\u001b[0m \u001b[0mend\u001b[0m\u001b[0;34m=\u001b[0m\u001b[0;34m\",\"\u001b[0m\u001b[0;34m)\u001b[0m\u001b[0;34m.\u001b[0m\u001b[0msplit\u001b[0m\u001b[0;34m(\u001b[0m\u001b[0;34m\",\"\u001b[0m\u001b[0;34m)\u001b[0m\u001b[0;34m\u001b[0m\u001b[0;34m\u001b[0m\u001b[0m\n\u001b[0m\u001b[1;32m      4\u001b[0m     \u001b[0mprint\u001b[0m\u001b[0;34m(\u001b[0m\u001b[0mlist\u001b[0m\u001b[0;34m)\u001b[0m\u001b[0;34m\u001b[0m\u001b[0;34m\u001b[0m\u001b[0m\n",
      "\u001b[0;31mAttributeError\u001b[0m: 'NoneType' object has no attribute 'split'"
     ]
    }
   ],
   "source": [
    "for i in x:\n",
    "    i = i*10\n",
    "    list = print(i, end=\",\").split(\",\")\n",
    "    print(list)"
   ]
  },
  {
   "cell_type": "code",
   "execution_count": 32,
   "metadata": {},
   "outputs": [
    {
     "name": "stdout",
     "output_type": "stream",
     "text": [
      "300\n",
      "600\n",
      "900\n",
      "2000\n",
      "-700\n",
      "500\n"
     ]
    }
   ],
   "source": [
    "for i in x:\n",
    "    i = i*10\n",
    "    print(i)"
   ]
  },
  {
   "cell_type": "markdown",
   "metadata": {},
   "source": [
    "### 수업진행(함수부터)"
   ]
  },
  {
   "cell_type": "code",
   "execution_count": 49,
   "metadata": {},
   "outputs": [
    {
     "data": {
      "text/plain": [
       "[0, 3, 6]"
      ]
     },
     "execution_count": 49,
     "metadata": {},
     "output_type": "execute_result"
    }
   ],
   "source": [
    "# 실습01\n",
    "lis=[1,2,3,1,4,2,1]\n",
    "\n",
    "def allindex(my_list, elem):\n",
    "    temp_list = []\n",
    "    for i, e in enumerate(my_list):\n",
    "        if e == elem:\n",
    "            temp_list.append(i)\n",
    "    return temp_list\n",
    "\n",
    "allindex(lis,1)"
   ]
  },
  {
   "cell_type": "code",
   "execution_count": 54,
   "metadata": {},
   "outputs": [
    {
     "name": "stdout",
     "output_type": "stream",
     "text": [
      "50\n",
      "40\n",
      "30\n",
      "20\n",
      "10\n"
     ]
    }
   ],
   "source": [
    "list1 = [10,20,30,40,50]\n",
    "for i in range(len(list1)-1,-1,-1):\n",
    "    print(list1[i])"
   ]
  },
  {
   "cell_type": "code",
   "execution_count": 56,
   "metadata": {},
   "outputs": [
    {
     "data": {
      "text/plain": [
       "[]"
      ]
     },
     "execution_count": 56,
     "metadata": {},
     "output_type": "execute_result"
    }
   ],
   "source": [
    "list(range(-1,0,-1))"
   ]
  },
  {
   "cell_type": "code",
   "execution_count": 57,
   "metadata": {},
   "outputs": [
    {
     "name": "stdout",
     "output_type": "stream",
     "text": [
      "1 2 3\n"
     ]
    }
   ],
   "source": [
    "def func(a,b,c):\n",
    "    print(a,b,c)\n",
    "x=[1,2,3]\n",
    "func(*x)"
   ]
  },
  {
   "cell_type": "code",
   "execution_count": 60,
   "metadata": {},
   "outputs": [
    {
     "name": "stdout",
     "output_type": "stream",
     "text": [
      "1\n",
      "2\n",
      "3\n",
      "4\n",
      "5\n"
     ]
    }
   ],
   "source": [
    "def func(*args):\n",
    "    for arg in args:\n",
    "        print(arg)\n",
    "\n",
    "func(1,2,3,4,5)"
   ]
  },
  {
   "cell_type": "code",
   "execution_count": 61,
   "metadata": {},
   "outputs": [
    {
     "data": {
      "text/plain": [
       "17"
      ]
     },
     "execution_count": 61,
     "metadata": {},
     "output_type": "execute_result"
    }
   ],
   "source": [
    "def adding_func(*a):\n",
    "    sum0 = 0\n",
    "    for i in a:\n",
    "        sum0 += i\n",
    "    return sum0\n",
    "adding_func(2, 3, 5, 7)"
   ]
  },
  {
   "cell_type": "code",
   "execution_count": 64,
   "metadata": {},
   "outputs": [
    {
     "name": "stdout",
     "output_type": "stream",
     "text": [
      "이메일 :  aa@aa.com\n",
      "이름 :  tom\n"
     ]
    }
   ],
   "source": [
    "def func(email,name):\n",
    "    print(\"이메일 : \",email)\n",
    "    print(\"이름 : \", name)\n",
    "\n",
    "func(email=\"aa@aa.com\",name=\"tom\")"
   ]
  },
  {
   "cell_type": "code",
   "execution_count": 65,
   "metadata": {},
   "outputs": [
    {
     "name": "stdout",
     "output_type": "stream",
     "text": [
      "이메일 :  aa@aa.com\n",
      "이름 :  tom\n"
     ]
    }
   ],
   "source": [
    "def func(**kwargs):\n",
    "    print(\"이메일 : \", kwargs[\"email\"])\n",
    "    print(\"이름 : \", kwargs[\"name\"])\n",
    "\n",
    "func(email=\"aa@aa.com\", name=\"tom\")"
   ]
  },
  {
   "cell_type": "code",
   "execution_count": 69,
   "metadata": {},
   "outputs": [
    {
     "name": "stdout",
     "output_type": "stream",
     "text": [
      "1 2 3\n"
     ]
    }
   ],
   "source": [
    "def func(a,b,c):\n",
    "    print(a,b,c)\n",
    "\n",
    "x=[1,2,3]\n",
    "func(*x)"
   ]
  },
  {
   "cell_type": "code",
   "execution_count": 77,
   "metadata": {},
   "outputs": [
    {
     "name": "stdout",
     "output_type": "stream",
     "text": [
      "1,2,3,4,5,"
     ]
    }
   ],
   "source": [
    "def func(*args):\n",
    "    for arg in args:\n",
    "        print(arg, end=\",\")\n",
    "        \n",
    "func(1,2,3,4,5)"
   ]
  },
  {
   "cell_type": "code",
   "execution_count": 80,
   "metadata": {},
   "outputs": [
    {
     "name": "stdout",
     "output_type": "stream",
     "text": [
      "10012345"
     ]
    }
   ],
   "source": [
    "def func(a, *args):\n",
    "    print(a, end=\"\")\n",
    "    for arg in args:\n",
    "        print(arg, end=\"\")\n",
    "func(100,1,2,3,4,5)"
   ]
  },
  {
   "cell_type": "code",
   "execution_count": 81,
   "metadata": {},
   "outputs": [
    {
     "data": {
      "text/plain": [
       "range(0, 10)"
      ]
     },
     "execution_count": 81,
     "metadata": {},
     "output_type": "execute_result"
    }
   ],
   "source": [
    "range(10)"
   ]
  },
  {
   "cell_type": "code",
   "execution_count": 83,
   "metadata": {},
   "outputs": [
    {
     "name": "stdout",
     "output_type": "stream",
     "text": [
      "이메일 :  aa.aa.com\n",
      "이름 :  tom\n",
      "나이 :  18\n"
     ]
    }
   ],
   "source": [
    "def func(email, name, age=20):\n",
    "    print(\"이메일 : \", email)\n",
    "    print(\"이름 : \", name)\n",
    "    print(\"나이 : \",age)\n",
    "\n",
    "func(email = \"aa.aa.com\",name=\"tom\", age=18)"
   ]
  },
  {
   "cell_type": "code",
   "execution_count": 99,
   "metadata": {},
   "outputs": [
    {
     "name": "stdout",
     "output_type": "stream",
     "text": [
      "+ 1 2 3 4 5\n"
     ]
    }
   ],
   "source": [
    "def calc(operator, *nums):\n",
    "    sum = 0\n",
    "    if operator == \"+\":\n",
    "        for num in nums:\n",
    "            sum = sum + num\n",
    "    return sum\n",
    "\n",
    "print(\"+\",1,2,3,4,5)"
   ]
  },
  {
   "cell_type": "code",
   "execution_count": 105,
   "metadata": {},
   "outputs": [
    {
     "name": "stdout",
     "output_type": "stream",
     "text": [
      "1 2 3 4 5\n"
     ]
    }
   ],
   "source": [
    "\n",
    "def calc(*nums):\n",
    "    for num in nums:\n",
    "        sum = sum + num\n",
    "    return sum\n",
    "print(1,2,3,4,5)"
   ]
  },
  {
   "cell_type": "code",
   "execution_count": 1,
   "metadata": {},
   "outputs": [
    {
     "name": "stdout",
     "output_type": "stream",
     "text": [
      "36 40320\n"
     ]
    }
   ],
   "source": [
    "\n",
    "def calc(operator, *nums):\n",
    "    sum = 0\n",
    "    for num in nums:\n",
    "  \n",
    "        if operator ==\"+\":\n",
    "  \n",
    "            sum += num\n",
    "        elif operator ==\"*\":\n",
    "            if sum ==0:\n",
    "                sum=1\n",
    "\n",
    "            sum *= num\n",
    "    return sum\n",
    "\n",
    "res1 = calc(\"+\",1,2,3,4,5,6,7,8)\n",
    "res2 = calc(\"*\",1,2,3,4,5,6,7,8)\n",
    "print(res1, res2)"
   ]
  },
  {
   "cell_type": "code",
   "execution_count": 201,
   "metadata": {},
   "outputs": [
    {
     "name": "stdout",
     "output_type": "stream",
     "text": [
      "a\n"
     ]
    }
   ],
   "source": [
    "print(\"a\")"
   ]
  },
  {
   "cell_type": "code",
   "execution_count": 190,
   "metadata": {},
   "outputs": [
    {
     "name": "stdout",
     "output_type": "stream",
     "text": [
      "이메일 :  aa@aa.com\n",
      "이름 :  tom\n"
     ]
    }
   ],
   "source": [
    "def func(**kwargs):\n",
    "    print(\"이메일 : \",kwargs[\"email\"])\n",
    "    print(\"이름 : \", kwargs[\"name\"])\n",
    "    \n",
    "func(email=\"aa@aa.com\",name=\"tom\")"
   ]
  },
  {
   "cell_type": "code",
   "execution_count": 206,
   "metadata": {},
   "outputs": [
    {
     "name": "stdout",
     "output_type": "stream",
     "text": [
      "a\n"
     ]
    }
   ],
   "source": [
    "print(\"a\")"
   ]
  },
  {
   "cell_type": "code",
   "execution_count": 214,
   "metadata": {},
   "outputs": [
    {
     "name": "stdout",
     "output_type": "stream",
     "text": [
      "재귀함수!\n",
      "재귀함수!\n",
      "재귀함수!\n",
      "재귀함수!\n",
      "재귀함수!\n",
      "종료!\n"
     ]
    }
   ],
   "source": [
    "def test(end):\n",
    "    if end==0:\n",
    "        return print(\"종료!\") # 함수를 끝내겠다. 뒤에있는 코드 실행하지 않음\n",
    "    print(\"재귀함수!\")\n",
    "    end -= 1\n",
    "    test(end)\n",
    "    \n",
    "test(5)"
   ]
  },
  {
   "cell_type": "code",
   "execution_count": 219,
   "metadata": {},
   "outputs": [
    {
     "data": {
      "text/plain": [
       "120"
      ]
     },
     "execution_count": 219,
     "metadata": {},
     "output_type": "execute_result"
    }
   ],
   "source": [
    "def factorial(n):\n",
    "    if n==1:\n",
    "        return 1\n",
    "    return n*factorial(n-1)\n",
    "\n",
    "factorial(5)"
   ]
  },
  {
   "cell_type": "code",
   "execution_count": 230,
   "metadata": {},
   "outputs": [
    {
     "data": {
      "text/plain": [
       "15"
      ]
     },
     "execution_count": 230,
     "metadata": {},
     "output_type": "execute_result"
    }
   ],
   "source": [
    "# 실습03 1번\n",
    "\n",
    "def f_sum(n):\n",
    "    if n == 1:\n",
    "        return 1\n",
    "    return n + f_sum(n-1)\n",
    "\n",
    "f_sum(5)"
   ]
  },
  {
   "cell_type": "code",
   "execution_count": 242,
   "metadata": {},
   "outputs": [
    {
     "name": "stdout",
     "output_type": "stream",
     "text": [
      "1\n",
      "2\n",
      "3\n",
      "4\n"
     ]
    }
   ],
   "source": [
    "# 실습03 2번\n",
    "\n",
    "def f_number(n):\n",
    "    # n을 리스트로 만들기 ? no\n",
    "    # 몫과 나머지를 이용!\n",
    "    if n==0:  # 종료조건\n",
    "        return\n",
    "\n",
    "    f_number(n//10) #10으로 나눈 몫을 재귀\n",
    "    print(n%10)\n",
    "\n",
    "f_number(1234)  #1234//10 =123, 123//10 = 12, 12//10=1, 1//10=0\n",
    "#따라서, 1, 2, 3, 4 순으로 나타나게 됨(마지막부터 출력되니깐)\n",
    "# print를 f_number위에 올리면 먼저 나머지값이 찍히므로 역순으로 나옴"
   ]
  },
  {
   "cell_type": "code",
   "execution_count": 247,
   "metadata": {},
   "outputs": [
    {
     "data": {
      "text/plain": [
       "11"
      ]
     },
     "execution_count": 247,
     "metadata": {},
     "output_type": "execute_result"
    }
   ],
   "source": [
    "\n",
    "plus_ten = lambda x : x+10\n",
    "plus_ten(1)"
   ]
  },
  {
   "cell_type": "code",
   "execution_count": 253,
   "metadata": {},
   "outputs": [
    {
     "data": {
      "text/plain": [
       "[1, 2, 3, 4, 5, 6, 7, 8, 9, 10]"
      ]
     },
     "execution_count": 253,
     "metadata": {},
     "output_type": "execute_result"
    }
   ],
   "source": [
    "a=[1,2,3,4,5,6,7,8,9,10]\n",
    "\n",
    "def f(x):\n",
    "    if x%2==0:\n",
    "        return 0\n",
    "    else:\n",
    "        return x\n",
    "    \n",
    "list(map(f,a))\n",
    "a"
   ]
  },
  {
   "cell_type": "code",
   "execution_count": 256,
   "metadata": {},
   "outputs": [
    {
     "data": {
      "text/plain": [
       "[1, 0, 3, 0, 5, 0, 7, 0, 9, 0]"
      ]
     },
     "execution_count": 256,
     "metadata": {},
     "output_type": "execute_result"
    }
   ],
   "source": [
    "list(map(lambda x : 0 if x%2==0 else x, a))\n",
    "# f대신 람다사용\n"
   ]
  },
  {
   "cell_type": "code",
   "execution_count": 264,
   "metadata": {},
   "outputs": [
    {
     "data": {
      "text/plain": [
       "[2, 0, 1, 0, 2, 0, 2, 0, 1, 0]"
      ]
     },
     "execution_count": 264,
     "metadata": {},
     "output_type": "execute_result"
    }
   ],
   "source": [
    "list(map(lambda x : 0 if x%2==0 else 1 if x%3==0 else 2, a ))"
   ]
  },
  {
   "cell_type": "code",
   "execution_count": 258,
   "metadata": {},
   "outputs": [
    {
     "data": {
      "text/plain": [
       "(0,)"
      ]
     },
     "execution_count": 258,
     "metadata": {},
     "output_type": "execute_result"
    }
   ],
   "source": [
    "tuple(range(0,1))"
   ]
  },
  {
   "cell_type": "code",
   "execution_count": 260,
   "metadata": {},
   "outputs": [
    {
     "data": {
      "text/plain": [
       "[{'이름': '윤호준', '수학': 90, '과학': 90, '영어': 90},\n",
       " {'이름': '이진범', '수학': 10, '과학': 10, '영어': 10}]"
      ]
     },
     "execution_count": 260,
     "metadata": {},
     "output_type": "execute_result"
    }
   ],
   "source": [
    "scores"
   ]
  },
  {
   "cell_type": "code",
   "execution_count": 270,
   "metadata": {},
   "outputs": [
    {
     "ename": "TypeError",
     "evalue": "list indices must be integers or slices, not dict",
     "output_type": "error",
     "traceback": [
      "\u001b[0;31m---------------------------------------------------------------------------\u001b[0m",
      "\u001b[0;31mTypeError\u001b[0m                                 Traceback (most recent call last)",
      "\u001b[0;32m<ipython-input-270-45f9942adf29>\u001b[0m in \u001b[0;36m<module>\u001b[0;34m\u001b[0m\n\u001b[0;32m----> 1\u001b[0;31m \u001b[0mkeys\u001b[0m \u001b[0;34m=\u001b[0m \u001b[0mlist\u001b[0m\u001b[0;34m(\u001b[0m\u001b[0mmap\u001b[0m\u001b[0;34m(\u001b[0m\u001b[0;32mlambda\u001b[0m \u001b[0mx\u001b[0m \u001b[0;34m:\u001b[0m \u001b[0mscores\u001b[0m\u001b[0;34m[\u001b[0m\u001b[0mx\u001b[0m\u001b[0;34m]\u001b[0m\u001b[0;34m,\u001b[0m \u001b[0mscores\u001b[0m\u001b[0;34m)\u001b[0m\u001b[0;34m)\u001b[0m\u001b[0;34m\u001b[0m\u001b[0;34m\u001b[0m\u001b[0m\n\u001b[0m\u001b[1;32m      2\u001b[0m \u001b[0mkeys\u001b[0m\u001b[0;34m\u001b[0m\u001b[0;34m\u001b[0m\u001b[0m\n",
      "\u001b[0;32m<ipython-input-270-45f9942adf29>\u001b[0m in \u001b[0;36m<lambda>\u001b[0;34m(x)\u001b[0m\n\u001b[0;32m----> 1\u001b[0;31m \u001b[0mkeys\u001b[0m \u001b[0;34m=\u001b[0m \u001b[0mlist\u001b[0m\u001b[0;34m(\u001b[0m\u001b[0mmap\u001b[0m\u001b[0;34m(\u001b[0m\u001b[0;32mlambda\u001b[0m \u001b[0mx\u001b[0m \u001b[0;34m:\u001b[0m \u001b[0mscores\u001b[0m\u001b[0;34m[\u001b[0m\u001b[0mx\u001b[0m\u001b[0;34m]\u001b[0m\u001b[0;34m,\u001b[0m \u001b[0mscores\u001b[0m\u001b[0;34m)\u001b[0m\u001b[0;34m)\u001b[0m\u001b[0;34m\u001b[0m\u001b[0;34m\u001b[0m\u001b[0m\n\u001b[0m\u001b[1;32m      2\u001b[0m \u001b[0mkeys\u001b[0m\u001b[0;34m\u001b[0m\u001b[0;34m\u001b[0m\u001b[0m\n",
      "\u001b[0;31mTypeError\u001b[0m: list indices must be integers or slices, not dict"
     ]
    }
   ],
   "source": [
    "keys = list(map(lambda x : scores[x], scores))\n",
    "keys"
   ]
  },
  {
   "cell_type": "code",
   "execution_count": 271,
   "metadata": {},
   "outputs": [
    {
     "data": {
      "text/plain": [
       "11"
      ]
     },
     "execution_count": 271,
     "metadata": {},
     "output_type": "execute_result"
    }
   ],
   "source": [
    "(lambda x:x+10)(1)"
   ]
  },
  {
   "cell_type": "code",
   "execution_count": 272,
   "metadata": {},
   "outputs": [
    {
     "data": {
      "text/plain": [
       "21"
      ]
     },
     "execution_count": 272,
     "metadata": {},
     "output_type": "execute_result"
    }
   ],
   "source": [
    "y=20\n",
    "(lambda x : x+y)(1)"
   ]
  },
  {
   "cell_type": "code",
   "execution_count": 275,
   "metadata": {},
   "outputs": [
    {
     "data": {
      "text/plain": [
       "[1, 0, 3, 0, 5, 0, 7, 0, 9, 0]"
      ]
     },
     "execution_count": 275,
     "metadata": {},
     "output_type": "execute_result"
    }
   ],
   "source": [
    "a=[1,2,3,4,5,6,7,8,9,10]\n",
    "list(map(lambda x : 0 if x%2==0 else x, a))\n"
   ]
  },
  {
   "cell_type": "code",
   "execution_count": 276,
   "metadata": {},
   "outputs": [
    {
     "data": {
      "text/plain": [
       "[6, 4, 3, 6, 3, 6]"
      ]
     },
     "execution_count": 276,
     "metadata": {},
     "output_type": "execute_result"
    }
   ],
   "source": [
    "a=[2,6,4,3,6,8,3,9,6]\n",
    "list(filter(lambda x : x>2 and x<8, a))"
   ]
  },
  {
   "cell_type": "code",
   "execution_count": 279,
   "metadata": {},
   "outputs": [
    {
     "data": {
      "text/plain": [
       "[2, 0, 1, 0, 2, 0, 2, 0, 1, 0]"
      ]
     },
     "execution_count": 279,
     "metadata": {},
     "output_type": "execute_result"
    }
   ],
   "source": [
    "# 람다표현식 사용 안하고 표현하기\n",
    "\n",
    "a=[1,2,3,4,5,6,7,8,9,10]\n",
    "def f(x):\n",
    "    if x%2==0:\n",
    "        return 0\n",
    "    elif x%3==0:\n",
    "        return 1\n",
    "    else:\n",
    "        return 2\n",
    "    \n",
    "list(map(f,a))"
   ]
  },
  {
   "cell_type": "code",
   "execution_count": 305,
   "metadata": {},
   "outputs": [],
   "source": [
    "a=[2,6,4,3,6,8,3,9,6]"
   ]
  },
  {
   "cell_type": "code",
   "execution_count": 318,
   "metadata": {},
   "outputs": [
    {
     "data": {
      "text/plain": [
       "[4, 3, 6]"
      ]
     },
     "execution_count": 318,
     "metadata": {},
     "output_type": "execute_result"
    }
   ],
   "source": [
    "a=[2,6,4,3,6,8,3,9,6]\n",
    "\n",
    "def f(x):\n",
    "    if x>2 and x<8:\n",
    "        return x\n",
    "    else:\n",
    "        a.remove(x)\n",
    "        return \n",
    "        \n",
    "list(filter(f,a))"
   ]
  },
  {
   "cell_type": "code",
   "execution_count": 319,
   "metadata": {},
   "outputs": [
    {
     "data": {
      "text/plain": [
       "[6, 4, 3, 6, 3, 6]"
      ]
     },
     "execution_count": 319,
     "metadata": {},
     "output_type": "execute_result"
    }
   ],
   "source": [
    "a"
   ]
  },
  {
   "cell_type": "code",
   "execution_count": 322,
   "metadata": {},
   "outputs": [
    {
     "data": {
      "text/plain": [
       "[6, 4, 3, 6, 3, 6]"
      ]
     },
     "execution_count": 322,
     "metadata": {},
     "output_type": "execute_result"
    }
   ],
   "source": [
    "a=[2,6,4,3,6,8,3,9,6]\n",
    "list(filter(lambda x : x>2 and x<8, a))"
   ]
  },
  {
   "cell_type": "code",
   "execution_count": 323,
   "metadata": {},
   "outputs": [
    {
     "data": {
      "text/plain": [
       "[2, 6, 4, 3, 6, 8, 3, 9, 6]"
      ]
     },
     "execution_count": 323,
     "metadata": {},
     "output_type": "execute_result"
    }
   ],
   "source": [
    "a"
   ]
  },
  {
   "cell_type": "code",
   "execution_count": 333,
   "metadata": {},
   "outputs": [
    {
     "ename": "SyntaxError",
     "evalue": "invalid syntax (<ipython-input-333-84bfa8d0b095>, line 2)",
     "output_type": "error",
     "traceback": [
      "\u001b[0;36m  File \u001b[0;32m\"<ipython-input-333-84bfa8d0b095>\"\u001b[0;36m, line \u001b[0;32m2\u001b[0m\n\u001b[0;31m    list(map(lambda x : 합격 if x>60 else 대기 if 50=<x=<60 else 불합격,numbers))\u001b[0m\n\u001b[0m                                                ^\u001b[0m\n\u001b[0;31mSyntaxError\u001b[0m\u001b[0;31m:\u001b[0m invalid syntax\n"
     ]
    }
   ],
   "source": [
    "numbers = [12,32,55,12,32,4,86,50]\n",
    "list(map(lambda x : 합격 if x>60 else 대기 if 50=<x=<60 else 불합격,numbers))"
   ]
  },
  {
   "cell_type": "code",
   "execution_count": 10,
   "metadata": {},
   "outputs": [
    {
     "data": {
      "text/plain": [
       "['불합격', '불합격', '대기', '불합격', '불합격', '불합격', '합격', '대기']"
      ]
     },
     "execution_count": 10,
     "metadata": {},
     "output_type": "execute_result"
    }
   ],
   "source": [
    "# 실습04 1번\n",
    "numbers = [12,32,55,12,32,4,86,50]\n",
    "list(map(lambda x : \"합격\" if x>60 else \"대기\" if 50<=x<=60 else \"불합격\", numbers))"
   ]
  },
  {
   "cell_type": "code",
   "execution_count": 6,
   "metadata": {},
   "outputs": [
    {
     "data": {
      "text/plain": [
       "-1"
      ]
     },
     "execution_count": 6,
     "metadata": {},
     "output_type": "execute_result"
    }
   ],
   "source": [
    "\"50보다 작으면 불합격이 들어간 리스트를 만드세요\".find(\"라스트\")"
   ]
  },
  {
   "cell_type": "code",
   "execution_count": 6,
   "metadata": {},
   "outputs": [
    {
     "data": {
      "text/plain": [
       "['1.jpg', '23.jpg', '223.jpg']"
      ]
     },
     "execution_count": 6,
     "metadata": {},
     "output_type": "execute_result"
    }
   ],
   "source": [
    "# 실습04 2번\n",
    "files = [\"memo.txt\",\"1.jpg\",\"32.png\",\"23.jpg\",\"223.jpg\"]\n",
    "list(filter(lambda x : \"jpg\"in x, files))"
   ]
  },
  {
   "cell_type": "code",
   "execution_count": 12,
   "metadata": {},
   "outputs": [
    {
     "data": {
      "text/plain": [
       "['1.jpg', '23.jpg', '223.jpg']"
      ]
     },
     "execution_count": 12,
     "metadata": {},
     "output_type": "execute_result"
    }
   ],
   "source": [
    "# 실습04 2번\n",
    "files = [\"memo.txt\",\"1.jpg\",\"32.png\",\"23.jpg\",\"223.jpg\"]\n",
    "list(filter(lambda x : x.find(\"jpg\") != -1, files))"
   ]
  },
  {
   "cell_type": "code",
   "execution_count": 7,
   "metadata": {},
   "outputs": [],
   "source": [
    "files = [\"memo.txt\",\"1.jpg\",\"32.png\",\"23.jpg\",\"223.jpg\"]\n"
   ]
  },
  {
   "cell_type": "code",
   "execution_count": 394,
   "metadata": {},
   "outputs": [],
   "source": [
    "\n",
    "\n",
    "# find 함수 정의\n"
   ]
  },
  {
   "cell_type": "code",
   "execution_count": 5,
   "metadata": {},
   "outputs": [
    {
     "name": "stdout",
     "output_type": "stream",
     "text": [
      "['1.jpg', '23.jpg', '223.jpg']\n"
     ]
    }
   ],
   "source": [
    "files = [\"memo.txt\",\"1.jpg\",\"32.png\",\"23.jpg\",\"223.jpg\"]\n",
    "list1 = []\n",
    "\n",
    "for i in range(len(files)):\n",
    "    if files[i].find(\"jpg\") != -1:\n",
    "        list1.append(files[i])\n",
    "    else:\n",
    "        pass\n",
    "\n",
    "print(list1)"
   ]
  },
  {
   "cell_type": "code",
   "execution_count": 16,
   "metadata": {},
   "outputs": [
    {
     "ename": "NameError",
     "evalue": "name 'scores' is not defined",
     "output_type": "error",
     "traceback": [
      "\u001b[0;31m---------------------------------------------------------------------------\u001b[0m",
      "\u001b[0;31mNameError\u001b[0m                                 Traceback (most recent call last)",
      "\u001b[0;32m<ipython-input-16-fa8cef49474b>\u001b[0m in \u001b[0;36m<module>\u001b[0;34m\u001b[0m\n\u001b[0;32m----> 1\u001b[0;31m \u001b[0mscores\u001b[0m\u001b[0;34m\u001b[0m\u001b[0;34m\u001b[0m\u001b[0m\n\u001b[0m",
      "\u001b[0;31mNameError\u001b[0m: name 'scores' is not defined"
     ]
    }
   ],
   "source": []
  },
  {
   "cell_type": "code",
   "execution_count": null,
   "metadata": {},
   "outputs": [],
   "source": []
  }
 ],
 "metadata": {
  "kernelspec": {
   "display_name": "Python 3",
   "language": "python",
   "name": "python3"
  },
  "language_info": {
   "codemirror_mode": {
    "name": "ipython",
    "version": 3
   },
   "file_extension": ".py",
   "mimetype": "text/x-python",
   "name": "python",
   "nbconvert_exporter": "python",
   "pygments_lexer": "ipython3",
   "version": "3.8.5"
  }
 },
 "nbformat": 4,
 "nbformat_minor": 4
}

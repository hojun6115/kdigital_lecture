{
 "cells": [
  {
   "cell_type": "code",
   "execution_count": 1,
   "metadata": {},
   "outputs": [
    {
     "name": "stdout",
     "output_type": "stream",
     "text": [
      "32\n",
      "16\n",
      "192\n",
      "3.0\n"
     ]
    }
   ],
   "source": [
    "# 숙제1\n",
    "def calc(operator, num1, num2):\n",
    "    ret = 0\n",
    "    if operator == \"+\":\n",
    "        ret = num1+num2\n",
    "    elif operator == \"-\":\n",
    "        ret = num1-num2\n",
    "    elif operator == \"*\":\n",
    "        ret = num1*num2\n",
    "    elif operator == \"/\":\n",
    "        ret = num1/num2\n",
    "    # +, -, *, / 로 연산한 결과\n",
    "    return ret\n",
    "\n",
    "print(calc(\"+\",24,8))\n",
    "print(calc(\"-\",24,8))\n",
    "print(calc(\"*\",24,8))\n",
    "print(calc(\"/\",24,8))"
   ]
  },
  {
   "cell_type": "code",
   "execution_count": 4,
   "metadata": {},
   "outputs": [],
   "source": [
    "def display_all(scores):\n",
    "    for i, user in enumerate(scores):\n",
    "        print(f\"[{i}] 이름 : {user['이름']}, 수학 : {user['수학']}, 과학 : {user['과학']}, 영어 : {user['영어']}\")"
   ]
  },
  {
   "cell_type": "code",
   "execution_count": 5,
   "metadata": {},
   "outputs": [],
   "source": [
    "def get_inputdata():\n",
    "    name = input(\"이름 : \")\n",
    "    math = int(input(\"수학 : \"))\n",
    "    science = int(input(\"과학 : \"))\n",
    "    english = int(input(\"영어 : \"))\n",
    "    \n",
    "    return name, math, science, english"
   ]
  },
  {
   "cell_type": "code",
   "execution_count": 9,
   "metadata": {},
   "outputs": [
    {
     "name": "stdout",
     "output_type": "stream",
     "text": [
      "메뉴를 선택해주세요 (1-입력, 2-조회, 3-삭제, 0-종료) : 2\n",
      "[0] 이름 : 윤호준, 수학 : 90, 과학 : 90, 영어 : 90\n",
      "[1] 이름 : 이진범, 수학 : 10, 과학 : 10, 영어 : 10\n",
      "메뉴를 선택해주세요 (1-입력, 2-조회, 3-삭제, 0-종료) : 0\n",
      "종료되었습니다.\n"
     ]
    }
   ],
   "source": [
    "# 숙제2\n",
    "import pickle\n",
    "import os.path\n",
    "\n",
    "filename = \"scores.pkl\"\n",
    "\n",
    "if os.path.exists(filename):\n",
    "    with open(filename,\"rb\") as f:\n",
    "        scores = pickle.load(f)\n",
    "else:\n",
    "    scores = []\n",
    "    \n",
    "while True:\n",
    "    menu = int(input(\"메뉴를 선택해주세요 (1-입력, 2-조회, 3-삭제, 0-종료) : \"))\n",
    "    if menu == 1:\n",
    "        #입력\n",
    "        name, math, science, english = get_inputdata()\n",
    "        scores.append({\"이름\":name,\"수학\":math,\"과학\":science,\"영어\":english})\n",
    "        \n",
    "    elif menu==2:\n",
    "        #조회 #함수사용\n",
    "        display_all(scores)\n",
    "        \n",
    "        pass\n",
    "    elif menu ==3:\n",
    "        #삭제 #함수사용\n",
    "        display_all(scores)\n",
    "        \n",
    "        del_index = int(input(\"삭제할 번호를 입력해주세요 : \"))\n",
    "        scores.pop(del_index)\n",
    "        print(\"삭제가 완료되었습니다.\")\n",
    "        pass\n",
    "    elif menu==0:\n",
    "        #종료\n",
    "        #파일 저장\n",
    "        with open(filename,\"wb\") as f:\n",
    "            pickle.dump(scores, f)\n",
    "        print(\"종료되었습니다.\")\n",
    "        break\n",
    "\n"
   ]
  },
  {
   "cell_type": "code",
   "execution_count": null,
   "metadata": {},
   "outputs": [],
   "source": []
  }
 ],
 "metadata": {
  "kernelspec": {
   "display_name": "Python 3",
   "language": "python",
   "name": "python3"
  },
  "language_info": {
   "codemirror_mode": {
    "name": "ipython",
    "version": 3
   },
   "file_extension": ".py",
   "mimetype": "text/x-python",
   "name": "python",
   "nbconvert_exporter": "python",
   "pygments_lexer": "ipython3",
   "version": "3.8.5"
  }
 },
 "nbformat": 4,
 "nbformat_minor": 4
}

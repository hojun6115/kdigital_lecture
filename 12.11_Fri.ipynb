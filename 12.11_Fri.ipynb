{
 "cells": [
  {
   "cell_type": "code",
   "execution_count": 9,
   "metadata": {},
   "outputs": [
    {
     "data": {
      "text/plain": [
       "['/Users/yunhojun/kdigital',\n",
       " '/Users/yunhojun/opt/anaconda3/lib/python38.zip',\n",
       " '/Users/yunhojun/opt/anaconda3/lib/python3.8',\n",
       " '/Users/yunhojun/opt/anaconda3/lib/python3.8/lib-dynload',\n",
       " '',\n",
       " '/Users/yunhojun/opt/anaconda3/lib/python3.8/site-packages',\n",
       " '/Users/yunhojun/opt/anaconda3/lib/python3.8/site-packages/aeosa',\n",
       " '/Users/yunhojun/opt/anaconda3/lib/python3.8/site-packages/IPython/extensions',\n",
       " '/Users/yunhojun/.ipython']"
      ]
     },
     "execution_count": 9,
     "metadata": {},
     "output_type": "execute_result"
    }
   ],
   "source": [
    "import sys\n",
    "sys.path"
   ]
  },
  {
   "cell_type": "markdown",
   "metadata": {},
   "source": [
    "## 성적관리 프로그램 개발"
   ]
  },
  {
   "cell_type": "code",
   "execution_count": 11,
   "metadata": {},
   "outputs": [
    {
     "name": "stdout",
     "output_type": "stream",
     "text": [
      "메뉴를 선택해주세요 (1-입력, 2-조회, 3-삭제, 0-종료) : 0\n",
      "종료 되었습니다.\n"
     ]
    }
   ],
   "source": [
    "dic1 = {\"이름\": \"이민호\",\"수학\":40,\"과학\":50,\"영어\":30}\n",
    "dic2 = {}\n",
    "keys = [\"이름\",\"수학\",\"과학\",\"영어\"]\n",
    "values = []\n",
    "menu = int(input(\"메뉴를 선택해주세요 (1-입력, 2-조회, 3-삭제, 0-종료) : \"))\n",
    "i=-2\n",
    "list1=[0]\n",
    "list2=[]\n",
    "\n",
    "\n",
    "while menu != -1:\n",
    "    if menu ==0:\n",
    "        print(\"종료 되었습니다.\")\n",
    "        break\n",
    "    elif menu ==1:\n",
    "        name = input(\"이름 : \")\n",
    "        math = input(\"수학 : \")\n",
    "        science = input(\"과학 : \")\n",
    "        english = input(\"영어 : \")\n",
    "        values.extend([name, math, science, english])\n",
    "        dic2 = dict(zip(keys,values))\n",
    "        list2.append(1)\n",
    "        menu = int(input(\"메뉴를 선택해주세요 (1-입력, 2-조회, 3-삭제, 0-종료) : \"))\n",
    "        \n",
    "    elif menu==2:\n",
    "        print(list1,dic1)\n",
    "        print(list2,dic2)\n",
    "        menu = int(input(\"메뉴를 선택해주세요 (1-입력, 2-조회, 3-삭제, 0-종료) : \"))\n",
    "    elif menu==3:\n",
    "        print(list1,dic1)\n",
    "        print(list2,dic2)\n",
    "        delete = int(input(\"삭제할 번호를 입력해주세요 : \"))\n",
    "        if delete == 0:\n",
    "            dic1.clear()\n",
    "            print(\"삭제가 완료되었습니다.\")\n",
    "            menu = int(input(\"메뉴를 선택해주세요 (1-입력, 2-조회, 3-삭제, 0-종료) : \"))\n",
    "        elif delete == 1:\n",
    "            dic2.clear()\n",
    "            print(\"삭제가 완료되었습니다.\")\n",
    "            menu = int(input(\"메뉴를 선택해주세요 (1-입력, 2-조회, 3-삭제, 0-종료) : \"))"
   ]
  },
  {
   "cell_type": "code",
   "execution_count": null,
   "metadata": {},
   "outputs": [],
   "source": [
    "#딕셔너리 접근 실패한 것\n",
    "\n",
    "dic1 = {\"이름\":\"이민호\",\"수학\":40,\"과학\":50,\"영어\":30}\n",
    "dic2 = {}\n",
    "keys = [\"이름\",\"수학\",\"과학\",\"영어\"]\n",
    "values = []\n",
    "menu = int(input(\"메뉴를 선택해주세요 (1-입력, 2-조회, 3-삭제, 0-종료) : \"))\n",
    "i=-1\n",
    "list1=[0]\n",
    "list2=[]\n",
    "\n",
    "\n",
    "while True:\n",
    "    if menu ==0:\n",
    "        print(\"종료 되었습니다.\")\n",
    "        break\n",
    "    elif menu ==1:\n",
    "        name = input(\"이름 : \")\n",
    "        math = input(\"수학 : \")\n",
    "        science = input(\"과학 : \")\n",
    "        english = input(\"영어 : \")\n",
    "        values.extend([name, math, science, english])\n",
    "        dic2 = dict(zip(keys,values))\n",
    "        list2.append(1)\n",
    "        pass\n",
    "        \n",
    "    elif menu==2:\n",
    "        print(list1,dic1)\n",
    "        print(list2,dic2)\n",
    "\n",
    "    elif menu==3:\n",
    "        print(list1,dic1)\n",
    "        print(list2,dic2)\n",
    "        delete = int(input(\"삭제할 번호를 입력해주세요 : \"))\n",
    "        if delete == 0:\n",
    "            dic1.clear()\n",
    "            print(\"삭제가 완료되었습니다.\")\n",
    "        elif delete == 1:\n",
    "            dic2.clear()\n",
    "            print(\"삭제가 완료되었습니다.\")\n",
    "    menu = int(input(\"메뉴를 선택해주세요 (1-입력, 2-조회, 3-삭제, 0-종료) : \"))"
   ]
  },
  {
   "cell_type": "code",
   "execution_count": null,
   "metadata": {},
   "outputs": [],
   "source": [
    "start = int(input(\"메뉴를 선택해주세요 1-입력,2-조회,3-삭제,0-종료:\"))\n",
    "totallist=[[],[],[],[]]\n",
    "i = 0\n",
    "while True:\n",
    "    if start == 1 and i == 0:\n",
    "        print(\"입력값을 입력해주세요\")\n",
    "        name= input(\"이름 : \")\n",
    "        math = int(input(\"수학 : \"))\n",
    "        science = int(input(\"과학 : \"))\n",
    "        english = int(input(\"영어 : \"))\n",
    "        totallist[0].append(name)\n",
    "        totallist[1].append(math)\n",
    "        totallist[2].append(science)\n",
    "        totallist[3].append(english)\n",
    "        i += 1\n",
    "    elif start == 1 and i>0:\n",
    "        print(\"입력값을 입력해주세요\")\n",
    "        name = input(\"이름 : \")\n",
    "        math = int(input(\"수학 : \"))\n",
    "        science = int(input(\"과학 : \"))\n",
    "        english = int(input(\"영어 : \"))\n",
    "        totallist[0].append(name)\n",
    "        totallist[1].append(math)\n",
    "        totallist[2].append(science)\n",
    "        totallist[3].append(english)\n",
    "        i += 1\n",
    "    elif start == 2 and i > 0: #조회\n",
    "        for x in range(i):\n",
    "            print(\"[\",end=\"\")\n",
    "            print(x,end=\"\")\n",
    "            print(\"]\", end=\" \")\n",
    "            print(\"이름 : \"+totallist[0][x],end=\" \")\n",
    "            print(\"수학 : \",end=\"\")\n",
    "            print(totallist[1][x], end=\" \")\n",
    "            print(\"과학 : \", end=\"\")\n",
    "            print(totallist[2][x], end=\" \")\n",
    "            print(\"영어 : \", end=\"\")\n",
    "            print(totallist[3][x], end=\" \")\n",
    "            print()\n",
    "    elif start == 2 and i ==0:\n",
    "        print(\"입력한 값이 없자나!!! 뭘 조회를 하냐?\")\n",
    "    elif start == 3 and i > 0:#삭제\n",
    "        delx = int(input(\"삭제할 번호를 입력해주세요\"))\n",
    "        totallist[0].pop(delx)\n",
    "        totallist[1].pop(delx)\n",
    "        totallist[2].pop(delx)\n",
    "        totallist[3].pop(delx)\n",
    "        i -= 1\n",
    "        print(\"삭제가 완료되었습니다.\")\n",
    "    elif start == 3 and i ==0:\n",
    "        print(\"입력한 값이 없자나!!! 뭘 삭제를 하냐\")\n",
    "    elif start == 0:\n",
    "        print(\"종료되었습니다.\")\n",
    "        break\n",
    "    else:\n",
    "        print(\"잘못된 숫자입니다. 다른 숫자를 입력해주세요!!\")\n",
    "    start = int(input(\"메뉴를 선택해주세요 1-입력,2-조회,3-삭제,0-종료:\"))"
   ]
  },
  {
   "cell_type": "code",
   "execution_count": null,
   "metadata": {},
   "outputs": [],
   "source": [
    "menu = int(input(\"메뉴를 선택해주세요 (1-입력, 2-조회, 3-삭제, 0-종료) : \"))\n",
    "total = [[],[],[],[]]\n",
    "i=0\n",
    "\n",
    "while True:\n",
    "    if menu ==0 :\n",
    "        print(\"종료 되었습니다.\")\n",
    "        break\n",
    "    elif menu ==1 and i==0:\n",
    "        name = input(\"이름 : \")\n",
    "        math = int(input(\"수학 : \"))\n",
    "        science = int(input(\"과학 : \"))\n",
    "        english = int(input(\"영어 : \"))\n",
    "        total[0].append(name)\n",
    "        total[1].append(math)\n",
    "        total[2].append(science)\n",
    "        total[3].append(english)\n",
    "        i = i+1\n",
    "    \n",
    "    elif menu ==1 and i>0 :\n",
    "        name = input(\"이름 : \")\n",
    "        math = int(input(\"수학 : \"))\n",
    "        science = int(input(\"과학 : \"))\n",
    "        english = int(input(\"영어 : \"))\n",
    "        total[0].append(name)\n",
    "        total[1].append(math)\n",
    "        total[2].append(science)\n",
    "        total[3].append(english)\n",
    "        i = i+1\n",
    "        \n",
    "    elif menu==2 and i>0 : #조회\n",
    "        for j in range(i):\n",
    "            print(\"[\",end=\"\")\n",
    "            print(j,end=\"\")\n",
    "            print(\"]\", end=\" \")\n",
    "            print(\" 이름 :\",total[0][j],\", 수학 :\",total[1][j],\", 과학 :\",total[2][j],\", 영어 :\",total[3][j])\n",
    "            \n",
    "    elif menu==2 and i==0 :\n",
    "        print(\"입력값이 없습니다.\")\n",
    "\n",
    "    elif menu==3 and i>0 :  #삭제\n",
    "        delete = int(input(\"삭제할 번호를 입력해주세요 : \"))\n",
    "        total[0].pop(delete)\n",
    "        total[1].pop(delete)\n",
    "        total[2].pop(delete)\n",
    "        total[3].pop(delete)\n",
    "        i -= 1\n",
    "        print(\"삭제가 완료되었습니다.\")\n",
    "    menu = int(input(\"메뉴를 선택해주세요 (1-입력, 2-조회, 3-삭제, 0-종료) : \"))"
   ]
  },
  {
   "cell_type": "code",
   "execution_count": 19,
   "metadata": {},
   "outputs": [
    {
     "name": "stdout",
     "output_type": "stream",
     "text": [
      "메뉴를 선택해주세요 (1-입력, 2-조회, 3-삭제, 0-종료) : 1\n",
      "이름 : 윤호준\n",
      "수학 : 100\n",
      "과학 : 100\n",
      "영어 : 100\n",
      "메뉴를 선택해주세요 (1-입력, 2-조회, 3-삭제, 0-종료) : 1\n",
      "이름 : 이민호\n",
      "수학 : 50\n",
      "과학 : 60\n",
      "영어 : 70\n",
      "메뉴를 선택해주세요 (1-입력, 2-조회, 3-삭제, 0-종료) : 0\n",
      "종료되었습니다.\n",
      "[{'이름': '윤호준', '수학': 100, '과학': 100, '영어': 100}, {'이름': '이민호', '수학': 50, '과학': 60, '영어': 70}]\n"
     ]
    }
   ],
   "source": [
    "import pickle\n",
    "\n",
    "scores=[]\n",
    "\n",
    "while True:\n",
    "    menu = int(input(\"메뉴를 선택해주세요 (1-입력, 2-조회, 3-삭제, 0-종료) : \"))\n",
    "    if menu == 1:\n",
    "        #입력\n",
    "        name = input(\"이름 : \")\n",
    "        math = int(input(\"수학 : \"))\n",
    "        science = int(input(\"과학 : \"))\n",
    "        english = int(input(\"영어 : \"))\n",
    "        \n",
    "        student = {\"이름\":name,\"수학\":math,\"과학\":science,\"영어\":english}\n",
    "        scores.append(student)\n",
    "        \n",
    "        \n",
    "    elif menu==2:\n",
    "        #조회\n",
    "        \n",
    "        for user in scores:\n",
    "            print(user)\n",
    "        pass\n",
    "    elif menu ==3:\n",
    "        #삭제\n",
    "        pass\n",
    "    elif menu==0:\n",
    "        #종료\n",
    "        #파일 저장\n",
    "        with open(\"scores.pkl\",\"wb\") as f:\n",
    "            pickle.dump(scores, f)\n",
    "        print(\"종료되었습니다.\")\n",
    "        print(scores)\n",
    "        break\n",
    "\n",
    "\n",
    "        "
   ]
  },
  {
   "cell_type": "code",
   "execution_count": 20,
   "metadata": {},
   "outputs": [
    {
     "name": "stdout",
     "output_type": "stream",
     "text": [
      "[{'이름': '윤호준', '수학': 100, '과학': 100, '영어': 100}, {'이름': '이민호', '수학': 50, '과학': 60, '영어': 70}]\n"
     ]
    }
   ],
   "source": [
    "import pickle\n",
    "with open(\"scores.pkl\",\"rb\") as f:\n",
    "    scores = pickle.load(f)\n",
    "    print(scores)"
   ]
  },
  {
   "cell_type": "markdown",
   "metadata": {},
   "source": [
    "### 강사님 실습 설명"
   ]
  },
  {
   "cell_type": "code",
   "execution_count": 1,
   "metadata": {},
   "outputs": [],
   "source": [
    "def get_inputdata():\n",
    "    name = input(\"이름 : \")\n",
    "    math = int(input(\"수학 : \"))\n",
    "    science = int(input(\"과학 : \"))\n",
    "    english = int(input(\"영어 : \"))\n",
    "    \n",
    "    return name, math, science, english"
   ]
  },
  {
   "cell_type": "code",
   "execution_count": 2,
   "metadata": {},
   "outputs": [],
   "source": [
    "def display_all(scores):\n",
    "    for i, user in enumerate(scores):\n",
    "        print(f\"[{i}] 이름 : {user['이름']}, 수학 : {user['수학']}, 과학 : {user['과학']}, 영어 : {user['영어']}\")"
   ]
  },
  {
   "cell_type": "code",
   "execution_count": 4,
   "metadata": {},
   "outputs": [
    {
     "name": "stdout",
     "output_type": "stream",
     "text": [
      "메뉴를 선택해주세요 (1-입력, 2-조회, 3-삭제, 0-종료) : 2\n",
      "[0] 이름 : 윤호준, 수학 : 90, 과학 : 90, 영어 : 90\n",
      "메뉴를 선택해주세요 (1-입력, 2-조회, 3-삭제, 0-종료) : 2\n",
      "[0] 이름 : 윤호준, 수학 : 90, 과학 : 90, 영어 : 90\n",
      "메뉴를 선택해주세요 (1-입력, 2-조회, 3-삭제, 0-종료) : 0\n",
      "종료되었습니다.\n"
     ]
    }
   ],
   "source": [
    "import pickle\n",
    "import os.path\n",
    "\n",
    "filename = \"scores.pkl\"\n",
    "\n",
    "if os.path.exists(filename):\n",
    "    with open(filename,\"rb\") as f:\n",
    "        scores = pickle.load(f)\n",
    "else:\n",
    "    scores = []\n",
    "    \n",
    "while True:\n",
    "    menu = int(input(\"메뉴를 선택해주세요 (1-입력, 2-조회, 3-삭제, 0-종료) : \"))\n",
    "    if menu == 1:\n",
    "        #입력\n",
    "        name, math, science, english = get_inputdata()\n",
    "        scores.append({\"이름\":name,\"수학\":math,\"과학\":science,\"영어\":english})\n",
    "        \n",
    "    elif menu==2:\n",
    "        #조회 #함수사용\n",
    "        display_all(scores)\n",
    "        \n",
    "        pass\n",
    "    elif menu ==3:\n",
    "        #삭제 #함수사용\n",
    "        display_all(scores)\n",
    "        \n",
    "        del_index = int(input(\"삭제할 번호를 입력해주세요 : \"))\n",
    "        scores.pop(del_index)\n",
    "        print(\"삭제가 완료되었습니다.\")\n",
    "        pass\n",
    "    elif menu==0:\n",
    "        #종료\n",
    "        #파일 저장\n",
    "        with open(filename,\"wb\") as f:\n",
    "            pickle.dump(scores, f)\n",
    "        print(\"종료되었습니다.\")\n",
    "        break\n",
    "\n",
    "\n",
    "        "
   ]
  },
  {
   "cell_type": "code",
   "execution_count": null,
   "metadata": {},
   "outputs": [],
   "source": []
  }
 ],
 "metadata": {
  "kernelspec": {
   "display_name": "Python 3",
   "language": "python",
   "name": "python3"
  },
  "language_info": {
   "codemirror_mode": {
    "name": "ipython",
    "version": 3
   },
   "file_extension": ".py",
   "mimetype": "text/x-python",
   "name": "python",
   "nbconvert_exporter": "python",
   "pygments_lexer": "ipython3",
   "version": "3.8.5"
  }
 },
 "nbformat": 4,
 "nbformat_minor": 4
}

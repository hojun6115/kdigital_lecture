{
 "cells": [
  {
   "cell_type": "code",
   "execution_count": 17,
   "metadata": {},
   "outputs": [
    {
     "name": "stdout",
     "output_type": "stream",
     "text": [
      "이름을 입력해주세요 : 홍길동\n",
      "나이를 입력해주세요 : 27\n",
      "연락처를 입력해주세요 : 010-3323-1302\n"
     ]
    },
    {
     "data": {
      "text/plain": [
       "{'이름': '홍길동', '나이': '27', '연락처': '010-3323-1302'}"
      ]
     },
     "execution_count": 17,
     "metadata": {},
     "output_type": "execute_result"
    }
   ],
   "source": [
    "x=input(\"이름을 입력해주세요 : \")\n",
    "y=input(\"나이를 입력해주세요 : \")\n",
    "z=input(\"연락처를 입력해주세요 : \")\n",
    "score = dict(이름=x, 나이=y, 연락처=z)\n",
    "score"
   ]
  },
  {
   "cell_type": "code",
   "execution_count": 4,
   "metadata": {},
   "outputs": [
    {
     "name": "stdout",
     "output_type": "stream",
     "text": [
      "이름을 입력해주세요 : 홍길동\n",
      "나이를 입력해주세요 : 27\n",
      "연락처를 입력해주세요 : 010-3023-1223\n",
      "이름을 입력해주세요 : 이몽룡\n",
      "나이를 입력해주세요 : 30\n",
      "연락처를 입력해주세요 : 010-3030-4434\n"
     ]
    },
    {
     "data": {
      "text/plain": [
       "[{'이름': '홍길동', '나이': '27', '연락처': '010-3023-1223'},\n",
       " {'이름': '이몽룡', '나이': '30', '연락처': '010-3030-4434'}]"
      ]
     },
     "execution_count": 4,
     "metadata": {},
     "output_type": "execute_result"
    }
   ],
   "source": [
    "a=input(\"이름을 입력해주세요 : \")\n",
    "b=input(\"나이를 입력해주세요 : \")\n",
    "c=input(\"연락처를 입력해주세요 : \")\n",
    "d=input(\"이름을 입력해주세요 : \")\n",
    "e=input(\"나이를 입력해주세요 : \")\n",
    "f=input(\"연락처를 입력해주세요 : \")\n",
    "score=[{'이름': a, '나이':b, '연락처':c},{'이름': d, '나이':e, '연락처':f}]\n",
    "score"
   ]
  },
  {
   "cell_type": "code",
   "execution_count": 5,
   "metadata": {},
   "outputs": [
    {
     "data": {
      "text/plain": [
       "list"
      ]
     },
     "execution_count": 5,
     "metadata": {},
     "output_type": "execute_result"
    }
   ],
   "source": [
    "type(score)"
   ]
  },
  {
   "cell_type": "code",
   "execution_count": 6,
   "metadata": {},
   "outputs": [
    {
     "data": {
      "text/plain": [
       "dict"
      ]
     },
     "execution_count": 6,
     "metadata": {},
     "output_type": "execute_result"
    }
   ],
   "source": [
    "score={'이름': x, '나이':y, '연락처':y}\n",
    "type(score)"
   ]
  },
  {
   "cell_type": "code",
   "execution_count": 13,
   "metadata": {},
   "outputs": [
    {
     "data": {
      "text/plain": [
       "'tom'"
      ]
     },
     "execution_count": 13,
     "metadata": {},
     "output_type": "execute_result"
    }
   ],
   "source": [
    "score = dict(name=\"tom\", math=80, english=70)\n",
    "score[\"name\"]"
   ]
  },
  {
   "cell_type": "code",
   "execution_count": 18,
   "metadata": {},
   "outputs": [
    {
     "data": {
      "text/plain": [
       "3"
      ]
     },
     "execution_count": 18,
     "metadata": {},
     "output_type": "execute_result"
    }
   ],
   "source": [
    "len(score)"
   ]
  },
  {
   "cell_type": "code",
   "execution_count": 19,
   "metadata": {},
   "outputs": [
    {
     "ename": "NameError",
     "evalue": "name 'name' is not defined",
     "output_type": "error",
     "traceback": [
      "\u001b[0;31m---------------------------------------------------------------------------\u001b[0m",
      "\u001b[0;31mNameError\u001b[0m                                 Traceback (most recent call last)",
      "\u001b[0;32m<ipython-input-19-1f0d36b9bbc2>\u001b[0m in \u001b[0;36m<module>\u001b[0;34m\u001b[0m\n\u001b[0;32m----> 1\u001b[0;31m \u001b[0mname\u001b[0m \u001b[0;32min\u001b[0m \u001b[0mscore\u001b[0m\u001b[0;34m\u001b[0m\u001b[0;34m\u001b[0m\u001b[0m\n\u001b[0m",
      "\u001b[0;31mNameError\u001b[0m: name 'name' is not defined"
     ]
    }
   ],
   "source": [
    "name in score"
   ]
  },
  {
   "cell_type": "code",
   "execution_count": 20,
   "metadata": {},
   "outputs": [
    {
     "data": {
      "text/plain": [
       "False"
      ]
     },
     "execution_count": 20,
     "metadata": {},
     "output_type": "execute_result"
    }
   ],
   "source": [
    "\"name\" in score"
   ]
  },
  {
   "cell_type": "code",
   "execution_count": 21,
   "metadata": {},
   "outputs": [
    {
     "data": {
      "text/plain": [
       "False"
      ]
     },
     "execution_count": 21,
     "metadata": {},
     "output_type": "execute_result"
    }
   ],
   "source": [
    "\"math\" in score"
   ]
  },
  {
   "cell_type": "code",
   "execution_count": 23,
   "metadata": {},
   "outputs": [
    {
     "data": {
      "text/plain": [
       "True"
      ]
     },
     "execution_count": 23,
     "metadata": {},
     "output_type": "execute_result"
    }
   ],
   "source": [
    "score = dict(name=\"tom\", math=80, english=70)\n",
    "\"name\" in score"
   ]
  },
  {
   "cell_type": "code",
   "execution_count": 27,
   "metadata": {},
   "outputs": [
    {
     "data": {
      "text/plain": [
       "'tom'"
      ]
     },
     "execution_count": 27,
     "metadata": {},
     "output_type": "execute_result"
    }
   ],
   "source": [
    "score[\"name\"]"
   ]
  },
  {
   "cell_type": "code",
   "execution_count": 28,
   "metadata": {},
   "outputs": [
    {
     "data": {
      "text/plain": [
       "dict_keys(['name', 'math', 'english'])"
      ]
     },
     "execution_count": 28,
     "metadata": {},
     "output_type": "execute_result"
    }
   ],
   "source": [
    "score.keys()"
   ]
  },
  {
   "cell_type": "code",
   "execution_count": 29,
   "metadata": {},
   "outputs": [
    {
     "data": {
      "text/plain": [
       "dict_values(['tom', 80, 70])"
      ]
     },
     "execution_count": 29,
     "metadata": {},
     "output_type": "execute_result"
    }
   ],
   "source": [
    "score.values()"
   ]
  },
  {
   "cell_type": "code",
   "execution_count": 30,
   "metadata": {},
   "outputs": [
    {
     "data": {
      "text/plain": [
       "dict_items([('name', 'tom'), ('math', 80), ('english', 70)])"
      ]
     },
     "execution_count": 30,
     "metadata": {},
     "output_type": "execute_result"
    }
   ],
   "source": [
    "score.items()"
   ]
  },
  {
   "cell_type": "code",
   "execution_count": 31,
   "metadata": {},
   "outputs": [],
   "source": [
    "animal={\"a\",\"b\"}"
   ]
  },
  {
   "cell_type": "code",
   "execution_count": 32,
   "metadata": {},
   "outputs": [
    {
     "data": {
      "text/plain": [
       "set"
      ]
     },
     "execution_count": 32,
     "metadata": {},
     "output_type": "execute_result"
    }
   ],
   "source": [
    "type(animal)"
   ]
  },
  {
   "cell_type": "code",
   "execution_count": 33,
   "metadata": {},
   "outputs": [
    {
     "data": {
      "text/plain": [
       "True"
      ]
     },
     "execution_count": 33,
     "metadata": {},
     "output_type": "execute_result"
    }
   ],
   "source": [
    "\"a\" in animal"
   ]
  },
  {
   "cell_type": "code",
   "execution_count": 34,
   "metadata": {},
   "outputs": [
    {
     "data": {
      "text/plain": [
       "{'a', 'i', 'l', 'm', 'n'}"
      ]
     },
     "execution_count": 34,
     "metadata": {},
     "output_type": "execute_result"
    }
   ],
   "source": [
    "a=set(\"animal\")\n",
    "a"
   ]
  },
  {
   "cell_type": "code",
   "execution_count": 35,
   "metadata": {},
   "outputs": [
    {
     "data": {
      "text/plain": [
       "{0, 1, 2, 3, 4}"
      ]
     },
     "execution_count": 35,
     "metadata": {},
     "output_type": "execute_result"
    }
   ],
   "source": [
    "b=set(range(5))\n",
    "b"
   ]
  },
  {
   "cell_type": "code",
   "execution_count": 36,
   "metadata": {},
   "outputs": [],
   "source": [
    "a={1,2,3}\n",
    "b={3,4,5}"
   ]
  },
  {
   "cell_type": "code",
   "execution_count": 37,
   "metadata": {},
   "outputs": [
    {
     "data": {
      "text/plain": [
       "{1, 2, 3, 4, 5}"
      ]
     },
     "execution_count": 37,
     "metadata": {},
     "output_type": "execute_result"
    }
   ],
   "source": [
    "a|b"
   ]
  },
  {
   "cell_type": "code",
   "execution_count": 38,
   "metadata": {},
   "outputs": [
    {
     "data": {
      "text/plain": [
       "{1, 2, 3, 4, 5}"
      ]
     },
     "execution_count": 38,
     "metadata": {},
     "output_type": "execute_result"
    }
   ],
   "source": [
    "set.union(a,b)"
   ]
  },
  {
   "cell_type": "code",
   "execution_count": 39,
   "metadata": {},
   "outputs": [
    {
     "data": {
      "text/plain": [
       "{3}"
      ]
     },
     "execution_count": 39,
     "metadata": {},
     "output_type": "execute_result"
    }
   ],
   "source": [
    "a&b"
   ]
  },
  {
   "cell_type": "code",
   "execution_count": 40,
   "metadata": {},
   "outputs": [
    {
     "data": {
      "text/plain": [
       "{3}"
      ]
     },
     "execution_count": 40,
     "metadata": {},
     "output_type": "execute_result"
    }
   ],
   "source": [
    "set.intersection(a,b)"
   ]
  },
  {
   "cell_type": "code",
   "execution_count": 41,
   "metadata": {},
   "outputs": [
    {
     "data": {
      "text/plain": [
       "{1, 2}"
      ]
     },
     "execution_count": 41,
     "metadata": {},
     "output_type": "execute_result"
    }
   ],
   "source": [
    "a-b"
   ]
  },
  {
   "cell_type": "code",
   "execution_count": 42,
   "metadata": {},
   "outputs": [
    {
     "data": {
      "text/plain": [
       "{1, 2}"
      ]
     },
     "execution_count": 42,
     "metadata": {},
     "output_type": "execute_result"
    }
   ],
   "source": [
    "set.difference(a,b)"
   ]
  },
  {
   "cell_type": "code",
   "execution_count": 43,
   "metadata": {},
   "outputs": [
    {
     "data": {
      "text/plain": [
       "{1, 2, 4, 5}"
      ]
     },
     "execution_count": 43,
     "metadata": {},
     "output_type": "execute_result"
    }
   ],
   "source": [
    "a^b\n",
    "set.symmetric_difference(a,b)"
   ]
  },
  {
   "cell_type": "code",
   "execution_count": 52,
   "metadata": {},
   "outputs": [
    {
     "ename": "KeyError",
     "evalue": "5",
     "output_type": "error",
     "traceback": [
      "\u001b[0;31m---------------------------------------------------------------------------\u001b[0m",
      "\u001b[0;31mKeyError\u001b[0m                                  Traceback (most recent call last)",
      "\u001b[0;32m<ipython-input-52-3fe80d9e8e5b>\u001b[0m in \u001b[0;36m<module>\u001b[0;34m\u001b[0m\n\u001b[1;32m      1\u001b[0m \u001b[0ma\u001b[0m\u001b[0;34m=\u001b[0m\u001b[0;34m{\u001b[0m\u001b[0;36m1\u001b[0m\u001b[0;34m,\u001b[0m\u001b[0;36m2\u001b[0m\u001b[0;34m,\u001b[0m\u001b[0;36m3\u001b[0m\u001b[0;34m,\u001b[0m\u001b[0;36m4\u001b[0m\u001b[0;34m}\u001b[0m\u001b[0;34m\u001b[0m\u001b[0;34m\u001b[0m\u001b[0m\n\u001b[0;32m----> 2\u001b[0;31m \u001b[0ma\u001b[0m\u001b[0;34m.\u001b[0m\u001b[0mremove\u001b[0m\u001b[0;34m(\u001b[0m\u001b[0;36m5\u001b[0m\u001b[0;34m)\u001b[0m\u001b[0;34m\u001b[0m\u001b[0;34m\u001b[0m\u001b[0m\n\u001b[0m\u001b[1;32m      3\u001b[0m \u001b[0ma\u001b[0m\u001b[0;34m\u001b[0m\u001b[0;34m\u001b[0m\u001b[0m\n",
      "\u001b[0;31mKeyError\u001b[0m: 5"
     ]
    }
   ],
   "source": [
    "a={1,2,3,4}\n",
    "a.remove(5)\n",
    "a"
   ]
  },
  {
   "cell_type": "code",
   "execution_count": 46,
   "metadata": {},
   "outputs": [
    {
     "data": {
      "text/plain": [
       "{3, 4}"
      ]
     },
     "execution_count": 46,
     "metadata": {},
     "output_type": "execute_result"
    }
   ],
   "source": [
    "a.discard(2)\n",
    "a"
   ]
  },
  {
   "cell_type": "code",
   "execution_count": 55,
   "metadata": {},
   "outputs": [
    {
     "data": {
      "text/plain": [
       "{'1', '2', '3'}"
      ]
     },
     "execution_count": 55,
     "metadata": {},
     "output_type": "execute_result"
    }
   ],
   "source": [
    "a={\"1\",\"2\",\"3\",\"4\"}\n",
    "a.discard(\"4\")\n",
    "a"
   ]
  },
  {
   "cell_type": "code",
   "execution_count": 56,
   "metadata": {},
   "outputs": [
    {
     "data": {
      "text/plain": [
       "{1, 2, 3, 4, 5}"
      ]
     },
     "execution_count": 56,
     "metadata": {},
     "output_type": "execute_result"
    }
   ],
   "source": [
    "a={1,2,3}\n",
    "b={3,4,5}\n",
    "c=a|b\n",
    "c"
   ]
  },
  {
   "cell_type": "code",
   "execution_count": 57,
   "metadata": {},
   "outputs": [
    {
     "data": {
      "text/plain": [
       "{3}"
      ]
     },
     "execution_count": 57,
     "metadata": {},
     "output_type": "execute_result"
    }
   ],
   "source": [
    "d=a&b\n",
    "d"
   ]
  },
  {
   "cell_type": "code",
   "execution_count": 59,
   "metadata": {},
   "outputs": [
    {
     "data": {
      "text/plain": [
       "{1, 2, 4, 5}"
      ]
     },
     "execution_count": 59,
     "metadata": {},
     "output_type": "execute_result"
    }
   ],
   "source": [
    "e=c-d\n",
    "e"
   ]
  },
  {
   "cell_type": "code",
   "execution_count": 61,
   "metadata": {},
   "outputs": [
    {
     "name": "stdout",
     "output_type": "stream",
     "text": [
      "4이 a 안에 있습니다\n"
     ]
    }
   ],
   "source": [
    "if 4 in a:\n",
    "    print(\"2가 a 안에 있습니다\")\n",
    "    print(\"3이 a 안에 있습니다\")\n",
    "\n",
    "print(\"4이 a 안에 있습니다\")"
   ]
  },
  {
   "cell_type": "code",
   "execution_count": 62,
   "metadata": {},
   "outputs": [
    {
     "ename": "SyntaxError",
     "evalue": "unexpected EOF while parsing (<ipython-input-62-49a66e151417>, line 1)",
     "output_type": "error",
     "traceback": [
      "\u001b[0;36m  File \u001b[0;32m\"<ipython-input-62-49a66e151417>\"\u001b[0;36m, line \u001b[0;32m1\u001b[0m\n\u001b[0;31m    if 4 in a:\u001b[0m\n\u001b[0m              ^\u001b[0m\n\u001b[0;31mSyntaxError\u001b[0m\u001b[0;31m:\u001b[0m unexpected EOF while parsing\n"
     ]
    }
   ],
   "source": [
    "if 4 in a:"
   ]
  },
  {
   "cell_type": "code",
   "execution_count": 63,
   "metadata": {},
   "outputs": [],
   "source": [
    "if 4 in a:\n",
    "    pass"
   ]
  },
  {
   "cell_type": "code",
   "execution_count": 65,
   "metadata": {},
   "outputs": [
    {
     "name": "stdout",
     "output_type": "stream",
     "text": [
      "x는 30보다 작습니다\n"
     ]
    }
   ],
   "source": [
    "x=30\n",
    "if x>=10:\n",
    "    if x<=20:\n",
    "        print(\"x는 20보다 작습니다\")\n",
    "    if x<=30:\n",
    "        print(\"x는 30보다 작습니다\")"
   ]
  },
  {
   "cell_type": "code",
   "execution_count": 75,
   "metadata": {},
   "outputs": [
    {
     "name": "stdout",
     "output_type": "stream",
     "text": [
      "첫번째 점수를 입력해주세요 : 120\n",
      "두번째 점수를 입력해주세요 : 90\n",
      "세번째 점수를 입력해주세요 : 80\n",
      "잘못된 점수가 입력되었습니다\n"
     ]
    }
   ],
   "source": [
    "x=input(\"첫번째 점수를 입력해주세요 : \")\n",
    "y=input(\"두번째 점수를 입력해주세요 : \")\n",
    "z=input(\"세번째 점수를 입력해주세요 : \")\n",
    "\n",
    "if 65<int(x)<=100 and 65<int(y)<=100 and 65<int(z)<=100:\n",
    "    print(\"합격\")\n",
    "elif int(x)<=65 or int(y)<=65 or int(z)<=65:\n",
    "    print(\"불합격\")\n",
    "else:\n",
    "    print(\"잘못된 점수가 입력되었습니다\")"
   ]
  },
  {
   "cell_type": "code",
   "execution_count": 76,
   "metadata": {},
   "outputs": [
    {
     "name": "stdout",
     "output_type": "stream",
     "text": [
      "첫번째 점수를 입력해주세요 : 80\n",
      "두번째 점수를 입력해주세요 : 90\n",
      "세번째 점수를 입력해주세요 : 75\n",
      "합격\n"
     ]
    }
   ],
   "source": [
    "x=input(\"첫번째 점수를 입력해주세요 : \")\n",
    "y=input(\"두번째 점수를 입력해주세요 : \")\n",
    "z=input(\"세번째 점수를 입력해주세요 : \")\n",
    "\n",
    "if 65<int(x)<=100 and 65<int(y)<=100 and 65<int(z)<=100:\n",
    "    print(\"합격\")\n",
    "elif int(x)<=65 or int(y)<=65 or int(z)<=65:\n",
    "    print(\"불합격\")\n",
    "else:\n",
    "    print(\"잘못된 점수가 입력되었습니다\")"
   ]
  },
  {
   "cell_type": "code",
   "execution_count": 77,
   "metadata": {},
   "outputs": [
    {
     "name": "stdout",
     "output_type": "stream",
     "text": [
      "첫번째 점수를 입력해주세요 : 50\n",
      "두번째 점수를 입력해주세요 : 60\n",
      "세번째 점수를 입력해주세요 : 90\n",
      "불합격\n"
     ]
    }
   ],
   "source": [
    "x=input(\"첫번째 점수를 입력해주세요 : \")\n",
    "y=input(\"두번째 점수를 입력해주세요 : \")\n",
    "z=input(\"세번째 점수를 입력해주세요 : \")\n",
    "\n",
    "if 65<int(x)<=100 and 65<int(y)<=100 and 65<int(z)<=100:\n",
    "    print(\"합격\")\n",
    "elif int(x)<=65 or int(y)<=65 or int(z)<=65:\n",
    "    print(\"불합격\")\n",
    "else:\n",
    "    print(\"잘못된 점수가 입력되었습니다\")"
   ]
  },
  {
   "cell_type": "code",
   "execution_count": 123,
   "metadata": {},
   "outputs": [],
   "source": [
    "fruit=['사과','오렌지']\n",
    "vegetable=['당근','호박']"
   ]
  },
  {
   "cell_type": "code",
   "execution_count": 125,
   "metadata": {},
   "outputs": [
    {
     "name": "stdout",
     "output_type": "stream",
     "text": [
      "등록할 카테고리를 선택해주세요 (과일, 채소)과일\n",
      "등록할 과일를 입력해주세요 : 바나나\n",
      "['사과', '오렌지', '바나나']\n"
     ]
    }
   ],
   "source": [
    "fruit=['사과', '오렌지']\n",
    "vegetable=['당근','호박']\n",
    "\n",
    "category=input(\"등록할 카테고리를 선택해주세요 (과일, 채소)\")\n",
    "register=input(\"등록할 {}를 입력해주세요 : \".format(category))\n",
    "\n",
    "if category ==\"과일\" and register != \"사과\" and register != \"오렌지\":\n",
    "           fruit.append(register)\n",
    "           print(list(fruit))\n",
    "elif category ==\"채소\" and register != \"당근\" and register !=\"호박\":\n",
    "           vegetable.append(register)\n",
    "           print(list(vegetable))\n",
    "elif category==\"과일\" and register == \"사과\" or register == \"오렌지\":\n",
    "           print(\"이미 등록된 과일입니다\")\n",
    "elif category==\"채소\" and register==\"당근\" or register==\"호박\":\n",
    "           print(\"이미 등록된 채소입니다\")\n",
    "else:\n",
    "           print(\"존재하지 않는 카테고리입니다.\")"
   ]
  },
  {
   "cell_type": "code",
   "execution_count": 134,
   "metadata": {},
   "outputs": [
    {
     "name": "stdout",
     "output_type": "stream",
     "text": [
      "등록할 카테고리를 선택해주세요 (과일, 채소)사과\n",
      "등록할 사과를 입력해주세요 : 바나나\n",
      "존재하지 않는 카테고리입니다\n"
     ]
    }
   ],
   "source": [
    "fruit=['사과', '오렌지']\n",
    "vegetable=['당근','호박']\n",
    "\n",
    "category=input(\"등록할 카테고리를 선택해주세요 (과일, 채소)\")\n",
    "register=input(\"등록할 {}를 입력해주세요 : \".format(category))\n",
    "\n",
    "if category in ['과일','채소']:\n",
    "    if category==\"과일\" :\n",
    "        if register in fruit:\n",
    "            print(\"이미 등록된 {}입니다\".format(category))\n",
    "        else:\n",
    "            fruit.append(register)\n",
    "            print(fruit)\n",
    "    else:\n",
    "        if register in vegetable:\n",
    "            print(\"이미 등록된 {}입니다\".format(category))\n",
    "        else:\n",
    "            vegetable.append(register)\n",
    "            print(vegetable)\n",
    "else:\n",
    "    print(\"존재하지 않는 카테고리입니다\")"
   ]
  },
  {
   "cell_type": "code",
   "execution_count": 135,
   "metadata": {},
   "outputs": [
    {
     "name": "stdout",
     "output_type": "stream",
     "text": [
      "0\n",
      "1\n",
      "2\n",
      "3\n",
      "4\n",
      "5\n",
      "6\n",
      "7\n",
      "8\n",
      "9\n"
     ]
    }
   ],
   "source": [
    "for i in range(0,10):\n",
    "    print(i)"
   ]
  },
  {
   "cell_type": "code",
   "execution_count": 136,
   "metadata": {},
   "outputs": [
    {
     "name": "stdout",
     "output_type": "stream",
     "text": [
      "10\n",
      "9\n",
      "8\n",
      "7\n",
      "6\n",
      "5\n",
      "4\n",
      "3\n",
      "2\n",
      "1\n"
     ]
    }
   ],
   "source": [
    "for i in range(10,0,-1):\n",
    "    print(i)"
   ]
  },
  {
   "cell_type": "code",
   "execution_count": 137,
   "metadata": {},
   "outputs": [
    {
     "name": "stdout",
     "output_type": "stream",
     "text": [
      "1\n",
      "2\n",
      "3\n",
      "4\n",
      "5\n",
      "6\n",
      "7\n"
     ]
    }
   ],
   "source": [
    "a=[1,2,3,4,5,6,7]\n",
    "for i in a:\n",
    "    print(i)"
   ]
  },
  {
   "cell_type": "code",
   "execution_count": 138,
   "metadata": {},
   "outputs": [
    {
     "name": "stdout",
     "output_type": "stream",
     "text": [
      "orange"
     ]
    }
   ],
   "source": [
    "for i in \"orange\":\n",
    "    print(i,end=\"\")"
   ]
  },
  {
   "cell_type": "code",
   "execution_count": 144,
   "metadata": {},
   "outputs": [
    {
     "name": "stdout",
     "output_type": "stream",
     "text": [
      "0123456789"
     ]
    }
   ],
   "source": [
    "for i in range(10):\n",
    "    print(i,end=\"\")"
   ]
  },
  {
   "cell_type": "code",
   "execution_count": 149,
   "metadata": {},
   "outputs": [
    {
     "name": "stdout",
     "output_type": "stream",
     "text": [
      "key:name,value:tom\n",
      "key:math,value:80\n",
      "key:english,value:70\n"
     ]
    }
   ],
   "source": [
    "for k,v in {\"name\":\"tom\",\"math\":80,\"english\":70}.items():\n",
    "    print(\"key:{},value:{}\".format(k,v))"
   ]
  },
  {
   "cell_type": "code",
   "execution_count": 151,
   "metadata": {},
   "outputs": [
    {
     "name": "stdout",
     "output_type": "stream",
     "text": [
      "3\n",
      "key:name,value:tom\n",
      "key:math,value:80\n",
      "key:english,value:70\n"
     ]
    }
   ],
   "source": [
    "my_dict={\"name\":\"tom\",\"math\":80,\"english\":70}\n",
    "print(len(my_dict))\n",
    "for k in my_dict:\n",
    "    print(\"key:{},value:{}\".format(k,my_dict[k]))"
   ]
  },
  {
   "cell_type": "code",
   "execution_count": 153,
   "metadata": {},
   "outputs": [
    {
     "name": "stdout",
     "output_type": "stream",
     "text": [
      "********** 0\n",
      "i :  10\n",
      "i :  11\n",
      "i :  12\n",
      "i :  13\n",
      "i :  14\n",
      "********** 1\n",
      "i :  10\n",
      "i :  11\n",
      "i :  12\n",
      "i :  13\n",
      "i :  14\n",
      "********** 2\n",
      "i :  10\n",
      "i :  11\n",
      "i :  12\n",
      "i :  13\n",
      "i :  14\n",
      "********** 3\n",
      "i :  10\n",
      "i :  11\n",
      "i :  12\n",
      "i :  13\n",
      "i :  14\n",
      "********** 4\n",
      "i :  10\n",
      "i :  11\n",
      "i :  12\n",
      "i :  13\n",
      "i :  14\n"
     ]
    }
   ],
   "source": [
    "for i in range(5):\n",
    "    print(\"*\"*10,i)\n",
    "    for i in range(10,15):\n",
    "        print(\"i : \", i)"
   ]
  },
  {
   "cell_type": "code",
   "execution_count": 156,
   "metadata": {},
   "outputs": [
    {
     "name": "stdout",
     "output_type": "stream",
     "text": [
      "0 : 사과\n",
      "1 : 오렌지\n",
      "2 : 바나나\n"
     ]
    }
   ],
   "source": [
    "fruit=['사과','오렌지','바나나']\n",
    "for idx, item in enumerate(fruit):\n",
    "    print(\"{} : {}\".format(idx, item))"
   ]
  },
  {
   "cell_type": "code",
   "execution_count": 166,
   "metadata": {},
   "outputs": [],
   "source": [
    "x=[3,6,9,20,-7,5]"
   ]
  },
  {
   "cell_type": "code",
   "execution_count": 223,
   "metadata": {},
   "outputs": [
    {
     "data": {
      "text/plain": [
       "[30, 60, 90, 200, -70, 50]"
      ]
     },
     "execution_count": 223,
     "metadata": {},
     "output_type": "execute_result"
    }
   ],
   "source": [
    "x=[3,6,9,20,-7,5]\n",
    "\n",
    "for idx in range(len(x)):\n",
    "    x[idx] *= 10\n",
    "x"
   ]
  },
  {
   "cell_type": "code",
   "execution_count": 177,
   "metadata": {},
   "outputs": [],
   "source": [
    "y={\"math\":70,\"science\":80,\"english\":20}"
   ]
  },
  {
   "cell_type": "code",
   "execution_count": 227,
   "metadata": {},
   "outputs": [
    {
     "data": {
      "text/plain": [
       "{'math': 120, 'science': 130, 'english': 70}"
      ]
     },
     "execution_count": 227,
     "metadata": {},
     "output_type": "execute_result"
    }
   ],
   "source": [
    "for score in y:\n",
    "    y[score] += 10\n",
    "y"
   ]
  },
  {
   "cell_type": "code",
   "execution_count": 217,
   "metadata": {},
   "outputs": [
    {
     "name": "stdout",
     "output_type": "stream",
     "text": [
      "몇단을 출력하시겠습니까? 3\n"
     ]
    }
   ],
   "source": [
    "dan=int(input(\"몇단을 출력하시겠습니까? \"))"
   ]
  },
  {
   "cell_type": "code",
   "execution_count": 220,
   "metadata": {},
   "outputs": [
    {
     "name": "stdout",
     "output_type": "stream",
     "text": [
      "3*1=3\n",
      "3*2=6\n",
      "3*3=9\n",
      "3*4=12\n",
      "3*5=15\n",
      "3*6=18\n",
      "3*7=21\n",
      "3*8=24\n"
     ]
    }
   ],
   "source": [
    "for i in range(1,9):\n",
    "    print(\"{}*{}={}\".format(dan,i,dan*i))"
   ]
  },
  {
   "cell_type": "code",
   "execution_count": 221,
   "metadata": {},
   "outputs": [
    {
     "data": {
      "text/plain": [
       "range(0, 6)"
      ]
     },
     "execution_count": 221,
     "metadata": {},
     "output_type": "execute_result"
    }
   ],
   "source": [
    "range(len(x))"
   ]
  },
  {
   "cell_type": "code",
   "execution_count": 238,
   "metadata": {},
   "outputs": [
    {
     "data": {
      "text/plain": [
       "{'math': 80, 'science': 90, 'english': 30}"
      ]
     },
     "execution_count": 238,
     "metadata": {},
     "output_type": "execute_result"
    }
   ],
   "source": [
    "y={\"math\":70,\"science\":80,\"english\":20}\n",
    "for i in y:\n",
    "    y[i] += 10\n",
    "y"
   ]
  },
  {
   "cell_type": "code",
   "execution_count": 239,
   "metadata": {},
   "outputs": [
    {
     "name": "stdout",
     "output_type": "stream",
     "text": [
      "현재값 :  0\n",
      "현재값 :  1\n",
      "현재값 :  2\n",
      "현재값 :  3\n",
      "현재값 :  4\n",
      "현재값 :  5\n",
      "현재값 :  6\n",
      "현재값 :  7\n",
      "현재값 :  8\n",
      "현재값 :  9\n"
     ]
    }
   ],
   "source": [
    "i=0\n",
    "while i<10:\n",
    "    print(\"현재값 : \",i)\n",
    "    i += 1"
   ]
  },
  {
   "cell_type": "code",
   "execution_count": 240,
   "metadata": {},
   "outputs": [
    {
     "name": "stdout",
     "output_type": "stream",
     "text": [
      "반복횟수?5\n",
      "입력한 횟수만큼 반복\n",
      "입력한 횟수만큼 반복\n",
      "입력한 횟수만큼 반복\n",
      "입력한 횟수만큼 반복\n",
      "입력한 횟수만큼 반복\n"
     ]
    }
   ],
   "source": [
    "count=int(input(\"반복횟수?\"))\n",
    "i=0\n",
    "while i<count:\n",
    "    print(\"입력한 횟수만큼 반복\")\n",
    "    i += 1"
   ]
  },
  {
   "cell_type": "code",
   "execution_count": 241,
   "metadata": {},
   "outputs": [
    {
     "name": "stdout",
     "output_type": "stream",
     "text": [
      "5를 입력하면 반복이 중단됩니다.1\n",
      "중단!\n",
      "5를 입력하면 반복이 중단됩니다.2\n",
      "중단!\n",
      "5를 입력하면 반복이 중단됩니다.5\n",
      "중단!\n"
     ]
    }
   ],
   "source": [
    "i=0\n",
    "while i !=5:\n",
    "    i=int(input(\"5를 입력하면 반복이 중단됩니다.\"))\n",
    "    print(\"중단!\")"
   ]
  },
  {
   "cell_type": "code",
   "execution_count": 296,
   "metadata": {},
   "outputs": [
    {
     "name": "stdout",
     "output_type": "stream",
     "text": [
      "값을 입력해주세요 : 30\n",
      "값을 입력해주세요 : 20\n",
      "값을 입력해주세요 : 0\n",
      "합계는 ?  50\n"
     ]
    }
   ],
   "source": [
    "i=2\n",
    "j=0\n",
    "while i !=0:\n",
    "    i=int(input(\"값을 입력해주세요 : \"))\n",
    "    j += i\n",
    "\n",
    "print(\"합계는 ? \",j)"
   ]
  },
  {
   "cell_type": "code",
   "execution_count": 297,
   "metadata": {},
   "outputs": [
    {
     "data": {
      "text/plain": [
       "0.9290839141769994"
      ]
     },
     "execution_count": 297,
     "metadata": {},
     "output_type": "execute_result"
    }
   ],
   "source": [
    "import random\n",
    "random.random()"
   ]
  },
  {
   "cell_type": "code",
   "execution_count": 298,
   "metadata": {},
   "outputs": [
    {
     "data": {
      "text/plain": [
       "1"
      ]
     },
     "execution_count": 298,
     "metadata": {},
     "output_type": "execute_result"
    }
   ],
   "source": [
    "random.randint(1,3)"
   ]
  },
  {
   "cell_type": "code",
   "execution_count": 299,
   "metadata": {},
   "outputs": [
    {
     "data": {
      "text/plain": [
       "2"
      ]
     },
     "execution_count": 299,
     "metadata": {},
     "output_type": "execute_result"
    }
   ],
   "source": [
    "random.randint(1,3)"
   ]
  },
  {
   "cell_type": "code",
   "execution_count": 300,
   "metadata": {},
   "outputs": [
    {
     "data": {
      "text/plain": [
       "3"
      ]
     },
     "execution_count": 300,
     "metadata": {},
     "output_type": "execute_result"
    }
   ],
   "source": [
    "random.randint(1,3)"
   ]
  },
  {
   "cell_type": "code",
   "execution_count": 301,
   "metadata": {},
   "outputs": [
    {
     "data": {
      "text/plain": [
       "3"
      ]
     },
     "execution_count": 301,
     "metadata": {},
     "output_type": "execute_result"
    }
   ],
   "source": [
    "random.randint(1,3)"
   ]
  },
  {
   "cell_type": "code",
   "execution_count": 302,
   "metadata": {},
   "outputs": [
    {
     "data": {
      "text/plain": [
       "1"
      ]
     },
     "execution_count": 302,
     "metadata": {},
     "output_type": "execute_result"
    }
   ],
   "source": [
    "random.randint(1,3)"
   ]
  },
  {
   "cell_type": "code",
   "execution_count": 303,
   "metadata": {},
   "outputs": [
    {
     "data": {
      "text/plain": [
       "1"
      ]
     },
     "execution_count": 303,
     "metadata": {},
     "output_type": "execute_result"
    }
   ],
   "source": [
    "random.randint(1,3)"
   ]
  },
  {
   "cell_type": "code",
   "execution_count": 304,
   "metadata": {},
   "outputs": [
    {
     "data": {
      "text/plain": [
       "1"
      ]
     },
     "execution_count": 304,
     "metadata": {},
     "output_type": "execute_result"
    }
   ],
   "source": [
    "random.randint(1,3)"
   ]
  },
  {
   "cell_type": "code",
   "execution_count": 305,
   "metadata": {},
   "outputs": [
    {
     "data": {
      "text/plain": [
       "3"
      ]
     },
     "execution_count": 305,
     "metadata": {},
     "output_type": "execute_result"
    }
   ],
   "source": [
    "random.randint(1,3)"
   ]
  },
  {
   "cell_type": "code",
   "execution_count": 315,
   "metadata": {},
   "outputs": [
    {
     "ename": "SyntaxError",
     "evalue": "invalid syntax (<ipython-input-315-a0c13b645a84>, line 9)",
     "output_type": "error",
     "traceback": [
      "\u001b[0;36m  File \u001b[0;32m\"<ipython-input-315-a0c13b645a84>\"\u001b[0;36m, line \u001b[0;32m9\u001b[0m\n\u001b[0;31m    elif i=1:\u001b[0m\n\u001b[0m          ^\u001b[0m\n\u001b[0;31mSyntaxError\u001b[0m\u001b[0;31m:\u001b[0m invalid syntax\n"
     ]
    }
   ],
   "source": []
  },
  {
   "cell_type": "code",
   "execution_count": 313,
   "metadata": {},
   "outputs": [
    {
     "data": {
      "text/plain": [
       "'가위'"
      ]
     },
     "execution_count": 313,
     "metadata": {},
     "output_type": "execute_result"
    }
   ],
   "source": [
    "a={1:\"가위\",2:\"바위\",3:\"보\"}\n",
    "a[1]"
   ]
  },
  {
   "cell_type": "code",
   "execution_count": 314,
   "metadata": {},
   "outputs": [
    {
     "name": "stdout",
     "output_type": "stream",
     "text": [
      "유저:가위\n"
     ]
    }
   ],
   "source": [
    "print(\"유저:{}\".format(a[1]))"
   ]
  },
  {
   "cell_type": "code",
   "execution_count": 335,
   "metadata": {},
   "outputs": [
    {
     "name": "stdout",
     "output_type": "stream",
     "text": [
      "가위(1), 바위(2), 보(3)를 입력해주세요.3\n",
      "유저 : 보, 컴퓨터 : 바위\n",
      "게임종료 (전체:4, 승리:0)\n"
     ]
    }
   ],
   "source": [
    "a={1:\"가위\",2:\"바위\",3:\"보\"}\n",
    "b=random.randint(1,3)\n",
    "i=1\n",
    "j=0\n",
    "\n",
    "while i<=3:\n",
    "    i=int(input(\"가위(1), 바위(2), 보(3)를 입력해주세요.\"))\n",
    "    if i>3:\n",
    "        break\n",
    "    elif i<1:\n",
    "        break\n",
    "    else:\n",
    "        print(\"유저 : {}, 컴퓨터 : {}\".format(a[i],a[b]))\n",
    "        i=i+1\n",
    "        if (i==1 and b==3) or (i==2 and b==1) or (i==3 and b==2):\n",
    "            j=j+1\n",
    "    print(\"게임종료 (전체:{}, 승리:{})\".format(i,j))"
   ]
  },
  {
   "cell_type": "code",
   "execution_count": 337,
   "metadata": {},
   "outputs": [
    {
     "name": "stdout",
     "output_type": "stream",
     "text": [
      "가위(1), 바위(2), 보(3)를 입력해주세요 : 1\n",
      "유저 : 가위, 컴퓨터 : 가위\n",
      "가위(1), 바위(2), 보(3)를 입력해주세요 : 2\n",
      "유저 : 바위, 컴퓨터 : 가위\n",
      "가위(1), 바위(2), 보(3)를 입력해주세요 : 3\n",
      "유저 : 보, 컴퓨터 : 가위\n",
      "가위(1), 바위(2), 보(3)를 입력해주세요 : 4\n",
      "\n"
     ]
    }
   ],
   "source": [
    "a={1:\"가위\",2:\"바위\",3:\"보\"}\n",
    "b=random.randint(1,3)\n",
    "i=0\n",
    "j=0\n",
    "\n",
    "while i<=3:\n",
    "    i=int(input(\"가위(1), 바위(2), 보(3)를 입력해주세요 : \"))\n",
    "    if i<=3:\n",
    "        print(\"유저 : {}, 컴퓨터 : {}\".format(a[i],a[b]))\n",
    "    elif (i==1 and b==3) or (i==2 and b==1) or (i==3 and b==2):\n",
    "        print(\"유저 : {}, 컴퓨터 : {}\".format(a[i],a[b]))\n",
    "        j=j+1\n",
    "    elif i>3:\n",
    "        print(\"\")"
   ]
  },
  {
   "cell_type": "code",
   "execution_count": null,
   "metadata": {},
   "outputs": [],
   "source": []
  }
 ],
 "metadata": {
  "kernelspec": {
   "display_name": "Python 3",
   "language": "python",
   "name": "python3"
  },
  "language_info": {
   "codemirror_mode": {
    "name": "ipython",
    "version": 3
   },
   "file_extension": ".py",
   "mimetype": "text/x-python",
   "name": "python",
   "nbconvert_exporter": "python",
   "pygments_lexer": "ipython3",
   "version": "3.8.5"
  }
 },
 "nbformat": 4,
 "nbformat_minor": 4
}
